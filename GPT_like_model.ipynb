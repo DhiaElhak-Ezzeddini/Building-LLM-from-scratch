{
 "cells": [
  {
   "cell_type": "code",
   "execution_count": 1,
   "id": "4a845a05",
   "metadata": {},
   "outputs": [],
   "source": [
    "import torch\n",
    "import torch.nn as nn "
   ]
  },
  {
   "cell_type": "code",
   "execution_count": null,
   "id": "675f32a2",
   "metadata": {},
   "outputs": [],
   "source": [
    "#@@@@@ Overview of the model architecture @@@@@ \n",
    "\n",
    "class DummyGPTModel(nn.Module):\n",
    "    def __init__(self,cfg):\n",
    "        super().__init__()\n",
    "        self.tok_emb    = nn.Embedding(cfg[\"vocab_size\"],cfg[\"emb_dim\"])\n",
    "        self.pos_emb    = nn.Embedding(cfg[\"context_length\"],cfg[\"emb_dim\"])\n",
    "        self.drop_emb   = nn.Dropout(cfg[\"drop_rate\"])\n",
    "        self.trf_blocks = nn.Sequential(\n",
    "            *[DummyTransformerBlock(cfg) for _ in range(cfg[\"n_layers\"])]\n",
    "        )\n",
    "        self.final_norm = DummyLayerNorm(cfg[\"emb_dim\"])\n",
    "        self.out_head = nn.Linear(cfg[\"emb_dim\"] , cfg[\"vocab_size\"],bias=False)\n",
    "        \n",
    "        \n",
    "    def forward(self,in_idx) : ## in_idx is the tokenized input of shape [batch_size , seq_len]\n",
    "        batch_size , seq_len = in_idx.shape\n",
    "        tok_embeds = self.tok_emb(in_idx)\n",
    "        pos_embeds = self.pos_emb(torch.arange(seq_len,device=in_idx.device))\n",
    "        \n",
    "        x = tok_embeds + pos_embeds\n",
    "        x = self.drop_emb(x)\n",
    "        x = self.trf_blocks(x)\n",
    "        x = self.final_norm(x)\n",
    "        logits = self.out_head(x)\n",
    "        \n",
    "        return logits\n",
    "\n",
    "class DummyLayerNorm(nn.Module):\n",
    "    def __init__(self,cfg):\n",
    "        super().__init__()\n",
    "    def forward(self,x):\n",
    "        return x\n",
    "\n",
    "class DummyTransformerBlock(nn.Module):\n",
    "    def __init__(self,cfg):\n",
    "        super().__init__()\n",
    "    def forward(self,x):\n",
    "        return x\n",
    "        "
   ]
  },
  {
   "cell_type": "code",
   "execution_count": 3,
   "id": "c97fabf7",
   "metadata": {},
   "outputs": [
    {
     "name": "stdout",
     "output_type": "stream",
     "text": [
      "tensor([[6109, 3626, 6100,  345],\n",
      "        [6109, 1110, 6622,  257]])\n"
     ]
    }
   ],
   "source": [
    "import tiktoken\n",
    "\n",
    "tokenizer = tiktoken.get_encoding(\"gpt2\")\n",
    "batch_test = []\n",
    "text1 = \"Every effort moves you\"\n",
    "text2 = \"Every day holds a\"\n",
    "batch_test.append(torch.tensor(tokenizer.encode(text1)))\n",
    "batch_test.append(torch.tensor(tokenizer.encode(text2)))\n",
    "batch_test = torch.stack(batch_test,dim=0)\n",
    "print(batch_test)\n"
   ]
  },
  {
   "cell_type": "code",
   "execution_count": 4,
   "id": "0b04a4c6",
   "metadata": {},
   "outputs": [
    {
     "name": "stdout",
     "output_type": "stream",
     "text": [
      "output shape (batch_size , seq_len , vocab_size):  torch.Size([2, 4, 50257])\n",
      "tensor([[[-0.9289,  0.2748, -0.7557,  ..., -1.6070,  0.2702, -0.5888],\n",
      "         [-0.4476,  0.1726,  0.5354,  ..., -0.3932,  1.5285,  0.8557],\n",
      "         [ 0.5680,  1.6053, -0.2155,  ...,  1.1624,  0.1380,  0.7425],\n",
      "         [ 0.0447,  2.4787, -0.8843,  ...,  1.3219, -0.0864, -0.5856]],\n",
      "\n",
      "        [[-1.5474, -0.0542, -1.0571,  ..., -1.8061, -0.4494, -0.6747],\n",
      "         [-0.8422,  0.8243, -0.1098,  ..., -0.1434,  0.2079,  1.2046],\n",
      "         [ 0.1355,  1.1858, -0.1453,  ...,  0.0869, -0.1590,  0.1552],\n",
      "         [ 0.1666, -0.8138,  0.2307,  ...,  2.5035, -0.3055, -0.3083]]],\n",
      "       grad_fn=<UnsafeViewBackward0>)\n"
     ]
    }
   ],
   "source": [
    "GPT_CONFIG_124M = {\n",
    "\"vocab_size\": 50257, # Vocabulary size\n",
    "\"context_length\": 1024, # Context length ==> after 1024 tokens the model can predict the next token \n",
    "\"emb_dim\": 768, # Embedding dimension\n",
    "\"n_heads\": 12, # Number of attention heads\n",
    "\"n_layers\": 12, # Number of layers\n",
    "\"drop_rate\": 0.1, # Dropout rate\n",
    "\"qkv_bias\": False # Query-Key-Value bias\n",
    "}\n",
    "\n",
    "torch.manual_seed(123)\n",
    "model = DummyGPTModel(GPT_CONFIG_124M)\n",
    "logits = model(batch_test)\n",
    "print(f\"output shape (batch_size , seq_len , vocab_size): \", logits.shape)\n",
    "print(logits)"
   ]
  },
  {
   "cell_type": "code",
   "execution_count": 5,
   "id": "c199e672",
   "metadata": {},
   "outputs": [
    {
     "name": "stdout",
     "output_type": "stream",
     "text": [
      "tensor([[0.3710, 0.0000, 0.5695, 0.6726, 0.2738, 0.6135],\n",
      "        [0.3424, 0.0000, 0.2633, 0.3311, 0.2569, 0.2686]],\n",
      "       grad_fn=<ReluBackward0>)\n",
      "\n",
      "bbefore layer normalization\n",
      "\n",
      "mean  tensor([[0.4167],\n",
      "        [0.2437]], grad_fn=<MeanBackward1>)\n",
      "var  tensor([[0.0647],\n",
      "        [0.0156]], grad_fn=<VarBackward0>)\n"
     ]
    }
   ],
   "source": [
    "## Layer Normalization , it consists on normalizing the output of a given layer (previous layer)\n",
    "## making the distribution of the overall output of the activations (Neurons) ~ N(0,1) ==> Stabilizing the training\n",
    "torch.manual_seed(193)\n",
    "batch_example = torch.rand(2,5)\n",
    "layer = nn.Sequential(nn.Linear(5,6),nn.ReLU())\n",
    "out   = layer(batch_example)\n",
    "print(out) \n",
    "print(f\"\\nbbefore layer normalization\\n\")\n",
    "mean = out.mean(dim=-1,keepdim=True)\n",
    "var  = out.var(dim=-1,keepdim=True)\n",
    "print(f\"mean \",out.mean(dim=-1,keepdim=True))\n",
    "print(f\"var \",out.var(dim=-1,keepdim=True))"
   ]
  },
  {
   "cell_type": "code",
   "execution_count": 6,
   "id": "5306c229",
   "metadata": {},
   "outputs": [
    {
     "name": "stdout",
     "output_type": "stream",
     "text": [
      "\n",
      "after normalization\n",
      "\n",
      "tensor([[-0.1796, -1.6379,  0.6002,  1.0056, -0.5616,  0.7734],\n",
      "        [ 0.7907, -1.9519,  0.1565,  0.6997,  0.1053,  0.1996]],\n",
      "       grad_fn=<DivBackward0>)\n",
      "mean tensor([[     0.0000],\n",
      "        [    -0.0000]], grad_fn=<MeanBackward1>)\n",
      "var tensor([[1.0000],\n",
      "        [1.0000]], grad_fn=<VarBackward0>)\n"
     ]
    }
   ],
   "source": [
    "torch.set_printoptions(sci_mode=False)\n",
    "\n",
    "out_norm = (out - mean) / torch.sqrt(var)\n",
    "mean = out_norm.mean(dim=-1,keepdim=True)\n",
    "var = out_norm.var(dim=-1,keepdim=True)\n",
    "print(f\"\\nafter normalization\\n\")\n",
    "print(out_norm)\n",
    "print(f\"mean {mean}\")\n",
    "print(f\"var {var}\")"
   ]
  },
  {
   "cell_type": "code",
   "execution_count": 7,
   "id": "1a7c8488",
   "metadata": {},
   "outputs": [],
   "source": [
    "## building the layer normalization class \n",
    "class LayerNorm(nn.Module):\n",
    "    def __init__(self,emb_dim):\n",
    "        super().__init__()\n",
    "        self.eps = 1e-5 ## since we are dividing by the square root of the variance , we use eps to prevent division by zero \n",
    "        self.scale = nn.Parameter(torch.ones(emb_dim))\n",
    "        self.shift = nn.Parameter(torch.zeros(emb_dim))\n",
    "        ## scale and shift are learned parameters that the model can update if this can enhance the training\n",
    "    def forward(self,x):\n",
    "        mean = x.mean(dim=-1,keepdim=True)\n",
    "        var = x.var(dim=-1,keepdim=True,unbiased=False)\n",
    "        norm_x = (x - mean) / torch.sqrt(var + self.eps)\n",
    "        return self.scale * norm_x + self.shift"
   ]
  },
  {
   "cell_type": "code",
   "execution_count": 8,
   "id": "b485dcf8",
   "metadata": {},
   "outputs": [
    {
     "name": "stdout",
     "output_type": "stream",
     "text": [
      "Mean\n",
      " tensor([[    -0.0000],\n",
      "        [     0.0000]], grad_fn=<MeanBackward1>)\n",
      "Variance\n",
      " tensor([[0.9996],\n",
      "        [0.9999]], grad_fn=<VarBackward0>)\n"
     ]
    }
   ],
   "source": [
    "ln = LayerNorm(emb_dim=5)\n",
    "out_ln = ln(batch_example)\n",
    "mean = out_ln.mean(dim=-1,keepdim=True)\n",
    "var = out_ln.var(dim=-1,keepdim=True,unbiased=False)\n",
    "print(f\"Mean\\n {mean}\")\n",
    "print(f\"Variance\\n {var}\")"
   ]
  },
  {
   "cell_type": "code",
   "execution_count": 9,
   "id": "61dc65de",
   "metadata": {},
   "outputs": [],
   "source": [
    "\"\"\"    \n",
    "GELU function is known by its smoothness , as for for ReLU , that turn any negative value into zero\n",
    "making any neuron with negative output unable to contribute to the training , GELU can acccept a small range of negative values \n",
    "allowing to more neurons to contribute in the training process. \n",
    "\"\"\"\n",
    "class GELU(nn.Module):\n",
    "    def __init__(self):\n",
    "        super().__init__()\n",
    "    \n",
    "    def forward(self,x):\n",
    "        return 0.5*x*(1 + torch.tanh(torch.sqrt(torch.tensor(2.0/torch.pi))*(x+0.044715*torch.pow(x,3))))\n"
   ]
  },
  {
   "cell_type": "code",
   "execution_count": 10,
   "id": "0591f8a9",
   "metadata": {},
   "outputs": [
    {
     "data": {
      "image/png": "[encoded data removed]",
      "text/plain": [
       "<Figure size 800x300 with 2 Axes>"
      ]
     },
     "metadata": {},
     "output_type": "display_data"
    }
   ],
   "source": [
    "import matplotlib.pyplot as plt\n",
    "gelu, relu = GELU(), nn.ReLU()\n",
    "x = torch.linspace(-3, 3, 100)\n",
    "y_gelu, y_relu = gelu(x), relu(x)\n",
    "plt.figure(figsize=(8, 3))\n",
    "for i, (y, label) in enumerate(zip([y_gelu, y_relu], [\"GELU\", \"ReLU\"]), 1):\n",
    "    plt.subplot(1, 2, i)\n",
    "    plt.plot(x, y)\n",
    "    plt.title(f\"{label} activation function\")\n",
    "    plt.xlabel(\"x\")\n",
    "    plt.ylabel(f\"{label}(x)\")\n",
    "    plt.grid(True)\n",
    "plt.tight_layout()\n",
    "plt.show()"
   ]
  },
  {
   "cell_type": "code",
   "execution_count": 11,
   "id": "8b9aecde",
   "metadata": {},
   "outputs": [],
   "source": [
    "\"\"\"\n",
    "    Feed forward Layer helps the model to learn and generalize data with the conservation of the its shape and reducing complexity \n",
    "    of the neural network , it passes temporerly to a higher dimension in order to explore data in a much bigger space and learn more advanced features\n",
    "    than it returns it to the original shape after passing it through GELU activation function\n",
    "\"\"\"\n",
    "class FeedForward(nn.Module): \n",
    "    def __init__(self,cfg) : \n",
    "        super().__init__()\n",
    "        self.layers = nn.Sequential(\n",
    "            nn.Linear(cfg[\"emb_dim\"] , 4*cfg[\"emb_dim\"]),\n",
    "            GELU(),\n",
    "            nn.Linear(4*cfg[\"emb_dim\"] , cfg[\"emb_dim\"])\n",
    "        )\n",
    "    def forward(self,x):\n",
    "        return self.layers(x)"
   ]
  },
  {
   "cell_type": "code",
   "execution_count": 12,
   "id": "29f73d26",
   "metadata": {},
   "outputs": [
    {
     "name": "stdout",
     "output_type": "stream",
     "text": [
      "torch.Size([2, 3, 768])\n"
     ]
    }
   ],
   "source": [
    "ffn = FeedForward(GPT_CONFIG_124M)\n",
    "batch = torch.randn([2,3,768])\n",
    "out = ffn(batch)\n",
    "print(out.shape)"
   ]
  },
  {
   "cell_type": "code",
   "execution_count": 13,
   "id": "372c4feb",
   "metadata": {},
   "outputs": [],
   "source": [
    "\"\"\" \n",
    "    the residual (skip or even shortcut) connection is a method used for preventing Gradient Vanishing in the neural network (so to stabilize the training)\n",
    "    in fact , gradient may not get to the early layers , so updates in early layers are very small and can't learn during training as the later layers \n",
    "    skip connection is a way of creating a short path for the gradients to reach out early layers by skipping some intermediate layers to prevent vanishing.\n",
    "    it is done by connecting the input of an early layer with the output of more advanced layer\n",
    "\"\"\"\n",
    "\n",
    "class exampleDeepNN(nn.Module):\n",
    "    def __init__(self,layer_sizes,use_shortcut):\n",
    "        super().__init__()\n",
    "        self.use_shortcut = use_shortcut\n",
    "        self.layer_sizes  = layer_sizes\n",
    "        self.layers = nn.ModuleList([\n",
    "            nn.Sequential(nn.Linear(layer_sizes[0] , layer_sizes[1]) , GELU()),\n",
    "            nn.Sequential(nn.Linear(layer_sizes[1] , layer_sizes[2]) , GELU()),\n",
    "            nn.Sequential(nn.Linear(layer_sizes[2] , layer_sizes[3]) , GELU()),\n",
    "            nn.Sequential(nn.Linear(layer_sizes[3] , layer_sizes[4]) , GELU()),\n",
    "            nn.Sequential(nn.Linear(layer_sizes[4] , layer_sizes[5]) , GELU())\n",
    "        ])\n",
    "    \n",
    "    def forward(self,x) : \n",
    "        for layer in self.layers : \n",
    "            layer_out = layer(x)\n",
    "            if self.use_shortcut and x.shape == layer_out.shape : \n",
    "                x = x + layer_out\n",
    "            else : \n",
    "                x = layer_out\n",
    "        return x "
   ]
  },
  {
   "cell_type": "code",
   "execution_count": 14,
   "id": "add12211",
   "metadata": {},
   "outputs": [],
   "source": [
    "layers_sizes = [3,3,3,3,3,1]\n",
    "sample_input = torch.tensor([[1.,0.,-1.]])\n",
    "torch.manual_seed(123)\n",
    "DNN_without_shortcuts = exampleDeepNN(layers_sizes , use_shortcut=False)\n",
    "def print_gradients(model,x):\n",
    "    out = model(x)\n",
    "    target = torch.tensor([0.])\n",
    "    loss = nn.MSELoss()\n",
    "    loss = loss(out , target)\n",
    "    loss.backward()\n",
    "    for name , param in model.named_parameters():\n",
    "        if \"weight\" in name : \n",
    "            print(f\"{name} has gradient mean of {param.grad.abs().mean().item()}\")   "
   ]
  },
  {
   "cell_type": "code",
   "execution_count": 15,
   "id": "90e8b502",
   "metadata": {},
   "outputs": [
    {
     "name": "stdout",
     "output_type": "stream",
     "text": [
      "layers.0.0.weight has gradient mean of 0.00020173587836325169\n",
      "layers.1.0.weight has gradient mean of 0.0001201116101583466\n",
      "layers.2.0.weight has gradient mean of 0.0007152041653171182\n",
      "layers.3.0.weight has gradient mean of 0.001398873864673078\n",
      "layers.4.0.weight has gradient mean of 0.005049646366387606\n"
     ]
    },
    {
     "name": "stderr",
     "output_type": "stream",
     "text": [
      "c:\\Users\\DHIA\\anaconda3\\envs\\venv\\lib\\site-packages\\torch\\nn\\modules\\loss.py:610: UserWarning: Using a target size (torch.Size([1])) that is different to the input size (torch.Size([1, 1])). This will likely lead to incorrect results due to broadcasting. Please ensure they have the same size.\n",
      "  return F.mse_loss(input, target, reduction=self.reduction)\n"
     ]
    }
   ],
   "source": [
    "print_gradients(DNN_without_shortcuts , sample_input)\n",
    "## early layers "
   ]
  },
  {
   "cell_type": "code",
   "execution_count": 16,
   "id": "b5da4f77",
   "metadata": {},
   "outputs": [
    {
     "name": "stdout",
     "output_type": "stream",
     "text": [
      "layers.0.0.weight has gradient mean of 0.0014432319439947605\n",
      "layers.1.0.weight has gradient mean of 0.004846962168812752\n",
      "layers.2.0.weight has gradient mean of 0.0041389018297195435\n",
      "layers.3.0.weight has gradient mean of 0.00591512955725193\n",
      "layers.4.0.weight has gradient mean of 0.03265950828790665\n"
     ]
    }
   ],
   "source": [
    "DNN_with_shortcuts = exampleDeepNN(layers_sizes , use_shortcut=True)\n",
    "print_gradients(DNN_with_shortcuts , sample_input)\n",
    "## the gradient values stabilizes when we progress to the early layers  "
   ]
  },
  {
   "cell_type": "code",
   "execution_count": 17,
   "id": "b8ad98ca",
   "metadata": {},
   "outputs": [],
   "source": [
    "from torch.nn import functional as F\n",
    "class MultiHeadAttention(nn.Module) : \n",
    "    def __init__(self,d_in,d_out,context_length,dropout,num_heads,bias=False):\n",
    "        super().__init__()\n",
    "        assert(d_out % num_heads ==0 ) ,\"d_out must be divisible by num_heads\"\n",
    "        \n",
    "        self.d_out = d_out\n",
    "        self.num_heads = num_heads\n",
    "        \n",
    "        self.head_dim = d_out // num_heads\n",
    "        \n",
    "        self.w_q = nn.Linear(d_in,d_out,bias=bias)\n",
    "        self.w_k = nn.Linear(d_in,d_out,bias=bias)\n",
    "        self.w_v = nn.Linear(d_in,d_out,bias=bias)\n",
    "        self.out_proj = nn.Linear(d_out,d_out)\n",
    "        self.dropout  = nn.Dropout(dropout) \n",
    "        self.register_buffer(\n",
    "            'mask',\n",
    "            torch.triu(torch.ones(context_length,context_length),diagonal=1)\n",
    "        )\n",
    "    \n",
    "    def forward(self,x):\n",
    "        b,num_tokens,d_embed= x.shape\n",
    "        \n",
    "        queries = self.w_q(x) ## (b , num_tokens , d_out)\n",
    "        #print(f\"queries :\\n {queries}\")\n",
    "        keys    = self.w_k(x) ## (b , num_tokens , d_out)\n",
    "        #print(f\"keys    : \\n {keys}\")\n",
    "        values  = self.w_v(x) ## (b , num_tokens , d_out)\n",
    "        #print(f\"values  : \\n {values}\")\n",
    "        ## (b , num_tokens , d_out) -------->  (b , num_tokens , num_heads , head_dim)\n",
    "        queries = queries.view(b,num_tokens,self.num_heads,self.head_dim)\n",
    "        keys    = keys.view(b,num_tokens,self.num_heads,self.head_dim)\n",
    "        values  = values.view(b,num_tokens,self.num_heads,self.head_dim)\n",
    "        #print(f\"queries after view :\\n {queries}\")\n",
    "        #print(f\"keys after view    :\\n {keys}\")\n",
    "        #print(f\"values after view  :\\n {values}\")\n",
    "        # (b , num_tokens , num_heads , head_dim) ------> (b , num_heads , num_tokens , head_dim)\n",
    "        ## in this case each head should be able to access all the tokens but with different embeddings (keys values splitted over the different heads)\n",
    "        keys    = keys.transpose(1,2) \n",
    "        queries = queries.transpose(1,2) \n",
    "        values  = values.transpose(1,2) \n",
    "        #print(f\"queries after transpose :\\n {queries}\")\n",
    "        #print(f\"keys after transpose    :\\n {keys}\")\n",
    "        #print(f\"values after transpose  :\\n {values}\")\n",
    "        attn_scores = queries @ keys.transpose(-1,-2)\n",
    "        #print(f\"Attention Scores : \\n {attn_scores}\")\n",
    "        mask_bool = self.mask.bool()[:num_tokens,:num_tokens]\n",
    "        attn_scores_masked = attn_scores.masked_fill_(mask_bool,-torch.inf)\n",
    "        #print(f\"Attention Scores masked : \\n {attn_scores_masked}\")\n",
    "        attn_weights = F.softmax(attn_scores_masked / keys.shape[-1]**0.5,dim=-1)\n",
    "        #print(f\"Attention Weights : \\n {attn_weights}\")\n",
    "        attn_weights = self.dropout(attn_weights)\n",
    "        \n",
    "        context = ( attn_weights @ values ).transpose(1,2)# (b , num_heads , num_tokens , head_dim) ------> (b , num_tokens , num_heads , head_dim) \n",
    "        \n",
    "        context = context.contiguous().view(b,num_tokens,self.d_out)\n",
    "        \n",
    "        context = self.out_proj(context) # optional linear projection layer \n",
    "        \n",
    "        return context\n",
    "        "
   ]
  },
  {
   "cell_type": "code",
   "execution_count": 18,
   "id": "a3913137",
   "metadata": {},
   "outputs": [],
   "source": [
    "class TransformerBlock(nn.Module):\n",
    "    def __init__(self,cfg):\n",
    "        super().__init__()\n",
    "        self.MHattention = MultiHeadAttention(\n",
    "            d_in=cfg[\"emb_dim\"],\n",
    "            d_out=cfg[\"emb_dim\"],\n",
    "            context_length=cfg[\"context_length\"],\n",
    "            num_heads=cfg[\"n_heads\"],\n",
    "            dropout=cfg[\"drop_rate\"],\n",
    "            bias=cfg[\"qkv_bias\"]\n",
    "        )\n",
    "        self.layer_norm_1 = LayerNorm(emb_dim=cfg['emb_dim'])\n",
    "        self.layer_norm_2 = LayerNorm(emb_dim=cfg['emb_dim'])\n",
    "        self.ffn          = FeedForward(cfg)\n",
    "        self.dropout      = nn.Dropout(cfg[\"drop_rate\"])\n",
    "        \n",
    "        \n",
    "    def forward(self,x) : \n",
    "        res_1 = x \n",
    "        x = self.layer_norm_1(x)\n",
    "        x = self.MHattention(x)\n",
    "        x = self.dropout(x)\n",
    "        x = x + res_1\n",
    "        \n",
    "        res_2 = x \n",
    "        \n",
    "        x = self.layer_norm_2(x)\n",
    "        x = self.ffn(x)\n",
    "        x = self.dropout(x)\n",
    "        x = x + res_2\n",
    "        \n",
    "        return x \n",
    "        "
   ]
  },
  {
   "cell_type": "code",
   "execution_count": 19,
   "id": "ceff8e53",
   "metadata": {},
   "outputs": [
    {
     "name": "stdout",
     "output_type": "stream",
     "text": [
      "tensor([[[ 0.3374, -0.1778, -0.3035,  ..., -0.3181, -1.3936,  0.5226],\n",
      "         [ 0.2579,  0.3420, -0.8168,  ..., -0.4098,  0.4978, -0.3721],\n",
      "         [ 0.7957,  0.5350,  0.9427,  ..., -1.0749,  0.0955, -1.4138],\n",
      "         [-0.0312,  1.6913, -2.2380,  ...,  0.2379, -1.1839, -0.3179]],\n",
      "\n",
      "        [[ 0.4279,  1.1632, -0.8327,  ...,  0.1802,  0.1917,  0.8713],\n",
      "         [-0.4334, -0.5095, -0.7118,  ...,  0.8329,  0.2992,  0.2496],\n",
      "         [-1.4580, -0.4094, -0.5215,  ..., -0.2644, -1.1221,  1.0535],\n",
      "         [-0.6634, -0.8472,  0.2937,  ..., -0.0461, -0.5843,  0.5808]]])\n",
      "\n",
      "Input shape  torch.Size([2, 4, 768])\n",
      "output shape torch.Size([2, 4, 768])\n"
     ]
    }
   ],
   "source": [
    "torch.manual_seed(123)\n",
    "x = torch.randn(2,4,768)\n",
    "print(x)\n",
    "block = TransformerBlock(cfg=GPT_CONFIG_124M)\n",
    "out = block(x)\n",
    "print(f\"\\nInput shape  {x.shape}\")\n",
    "print(f\"output shape {out.shape}\")\n"
   ]
  },
  {
   "cell_type": "markdown",
   "id": "d768c967",
   "metadata": {},
   "source": [
    "GPT2-Like Model architecture (full working version)"
   ]
  },
  {
   "cell_type": "code",
   "execution_count": 20,
   "id": "891bea87",
   "metadata": {},
   "outputs": [],
   "source": [
    "#@@@@@ Overview of the model architecture @@@@@ \n",
    "\n",
    "class GPTModel(nn.Module):\n",
    "    def __init__(self,cfg):\n",
    "        super().__init__()\n",
    "        self.tok_emb    = nn.Embedding(cfg[\"vocab_size\"],cfg[\"emb_dim\"])\n",
    "        self.pos_emb    = nn.Embedding(cfg[\"context_length\"],cfg[\"emb_dim\"])\n",
    "        self.drop_emb   = nn.Dropout(cfg[\"drop_rate\"])\n",
    "        self.trf_blocks = nn.Sequential(\n",
    "            *[TransformerBlock(cfg) for _ in range(cfg[\"n_layers\"])]\n",
    "        )\n",
    "        self.final_norm = LayerNorm(cfg[\"emb_dim\"])\n",
    "        self.out_head = nn.Linear(cfg[\"emb_dim\"] , cfg[\"vocab_size\"],bias=False)\n",
    "        \n",
    "        \n",
    "    def forward(self,in_idx) : \n",
    "        batch_size , seq_len = in_idx.shape\n",
    "        tok_embeds = self.tok_emb(in_idx)\n",
    "        pos_embeds = self.pos_emb(torch.arange(seq_len,device=in_idx.device))\n",
    "        \n",
    "        x = tok_embeds + pos_embeds\n",
    "        x = self.drop_emb(x)\n",
    "        x = self.trf_blocks(x)\n",
    "        x = self.final_norm(x)\n",
    "        logits = self.out_head(x)\n",
    "        \n",
    "        return logits"
   ]
  },
  {
   "cell_type": "code",
   "execution_count": 21,
   "id": "7fcddf1b",
   "metadata": {},
   "outputs": [
    {
     "name": "stdout",
     "output_type": "stream",
     "text": [
      "Input  batch shape :  torch.Size([2, 4])\n",
      "Output batch shape :  torch.Size([2, 4, 50257])\n",
      "Input \n",
      " tensor([[6109, 3626, 6100,  345],\n",
      "        [6109, 1110, 6622,  257]])\n",
      "Model Output \n",
      " tensor([[[ 0.1381,  0.0077, -0.1963,  ..., -0.0222, -0.1060,  0.1717],\n",
      "         [ 0.3865, -0.8408, -0.6564,  ..., -0.5163,  0.2369, -0.3357],\n",
      "         [ 0.6989, -0.1829, -0.1631,  ...,  0.1472, -0.6504, -0.0056],\n",
      "         [-0.4290,  0.1669, -0.1258,  ...,  1.1579,  0.5303, -0.5549]],\n",
      "\n",
      "        [[ 0.1094, -0.2894, -0.1467,  ..., -0.0557,  0.2911, -0.2824],\n",
      "         [ 0.0882, -0.3552, -0.3527,  ...,  1.2930,  0.0053,  0.1898],\n",
      "         [ 0.6091,  0.4702, -0.4094,  ...,  0.7688,  0.3787, -0.1974],\n",
      "         [-0.0612, -0.0737,  0.4751,  ...,  1.2463, -0.3834,  0.0609]]],\n",
      "       grad_fn=<UnsafeViewBackward0>)\n"
     ]
    }
   ],
   "source": [
    "\"\"\"\n",
    " 50257 is the vocabulary size of the tokenizer \n",
    " we passed 2 input texts with sequence length of 4 \n",
    " after the embedding we will have an input of shape [2,4,768] which will propagate along the transformer block\n",
    " after the transformer block w have a final Normalization Layer and a Linear outout layer that will transfer the transformer block\n",
    " output into a higher dimensional space resulting in a shape of [2,4,50257] with 50257 the vocabulary size of the tokenizer    \n",
    "\"\"\"\n",
    "\n",
    "torch.manual_seed(123)\n",
    "model = GPTModel(GPT_CONFIG_124M)\n",
    "out = model(batch_test)\n",
    "print(\"Input  batch shape : \",batch_test.shape)\n",
    "print(\"Output batch shape : \",out.shape)\n",
    "print(f\"Input \\n\",batch_test)\n",
    "print(f\"Model Output \\n\",out)"
   ]
  },
  {
   "cell_type": "code",
   "execution_count": 22,
   "id": "28f62cf3",
   "metadata": {},
   "outputs": [
    {
     "name": "stdout",
     "output_type": "stream",
     "text": [
      "Total Number of parameters  : 163,009,536\n"
     ]
    }
   ],
   "source": [
    "total_params = sum(p.numel() for p in model.parameters())\n",
    "print(f\"Total Number of parameters  : {total_params:,}\")"
   ]
  },
  {
   "cell_type": "code",
   "execution_count": 23,
   "id": "9db3be4f",
   "metadata": {},
   "outputs": [
    {
     "name": "stdout",
     "output_type": "stream",
     "text": [
      "torch.Size([50257, 768])\n",
      "torch.Size([1024, 768])\n",
      "torch.Size([768, 768])\n",
      "torch.Size([768, 768])\n",
      "torch.Size([768, 768])\n",
      "torch.Size([768, 768])\n",
      "torch.Size([768])\n",
      "torch.Size([768])\n",
      "torch.Size([768])\n",
      "torch.Size([768])\n",
      "torch.Size([768])\n",
      "torch.Size([3072, 768])\n",
      "torch.Size([3072])\n",
      "torch.Size([768, 3072])\n",
      "torch.Size([768])\n",
      "torch.Size([768, 768])\n",
      "torch.Size([768, 768])\n",
      "torch.Size([768, 768])\n",
      "torch.Size([768, 768])\n",
      "torch.Size([768])\n",
      "torch.Size([768])\n",
      "torch.Size([768])\n",
      "torch.Size([768])\n",
      "torch.Size([768])\n",
      "torch.Size([3072, 768])\n",
      "torch.Size([3072])\n",
      "torch.Size([768, 3072])\n",
      "torch.Size([768])\n",
      "torch.Size([768, 768])\n",
      "torch.Size([768, 768])\n",
      "torch.Size([768, 768])\n",
      "torch.Size([768, 768])\n",
      "torch.Size([768])\n",
      "torch.Size([768])\n",
      "torch.Size([768])\n",
      "torch.Size([768])\n",
      "torch.Size([768])\n",
      "torch.Size([3072, 768])\n",
      "torch.Size([3072])\n",
      "torch.Size([768, 3072])\n",
      "torch.Size([768])\n",
      "torch.Size([768, 768])\n",
      "torch.Size([768, 768])\n",
      "torch.Size([768, 768])\n",
      "torch.Size([768, 768])\n",
      "torch.Size([768])\n",
      "torch.Size([768])\n",
      "torch.Size([768])\n",
      "torch.Size([768])\n",
      "torch.Size([768])\n",
      "torch.Size([3072, 768])\n",
      "torch.Size([3072])\n",
      "torch.Size([768, 3072])\n",
      "torch.Size([768])\n",
      "torch.Size([768, 768])\n",
      "torch.Size([768, 768])\n",
      "torch.Size([768, 768])\n",
      "torch.Size([768, 768])\n",
      "torch.Size([768])\n",
      "torch.Size([768])\n",
      "torch.Size([768])\n",
      "torch.Size([768])\n",
      "torch.Size([768])\n",
      "torch.Size([3072, 768])\n",
      "torch.Size([3072])\n",
      "torch.Size([768, 3072])\n",
      "torch.Size([768])\n",
      "torch.Size([768, 768])\n",
      "torch.Size([768, 768])\n",
      "torch.Size([768, 768])\n",
      "torch.Size([768, 768])\n",
      "torch.Size([768])\n",
      "torch.Size([768])\n",
      "torch.Size([768])\n",
      "torch.Size([768])\n",
      "torch.Size([768])\n",
      "torch.Size([3072, 768])\n",
      "torch.Size([3072])\n",
      "torch.Size([768, 3072])\n",
      "torch.Size([768])\n",
      "torch.Size([768, 768])\n",
      "torch.Size([768, 768])\n",
      "torch.Size([768, 768])\n",
      "torch.Size([768, 768])\n",
      "torch.Size([768])\n",
      "torch.Size([768])\n",
      "torch.Size([768])\n",
      "torch.Size([768])\n",
      "torch.Size([768])\n",
      "torch.Size([3072, 768])\n",
      "torch.Size([3072])\n",
      "torch.Size([768, 3072])\n",
      "torch.Size([768])\n",
      "torch.Size([768, 768])\n",
      "torch.Size([768, 768])\n",
      "torch.Size([768, 768])\n",
      "torch.Size([768, 768])\n",
      "torch.Size([768])\n",
      "torch.Size([768])\n",
      "torch.Size([768])\n",
      "torch.Size([768])\n",
      "torch.Size([768])\n",
      "torch.Size([3072, 768])\n",
      "torch.Size([3072])\n",
      "torch.Size([768, 3072])\n",
      "torch.Size([768])\n",
      "torch.Size([768, 768])\n",
      "torch.Size([768, 768])\n",
      "torch.Size([768, 768])\n",
      "torch.Size([768, 768])\n",
      "torch.Size([768])\n",
      "torch.Size([768])\n",
      "torch.Size([768])\n",
      "torch.Size([768])\n",
      "torch.Size([768])\n",
      "torch.Size([3072, 768])\n",
      "torch.Size([3072])\n",
      "torch.Size([768, 3072])\n",
      "torch.Size([768])\n",
      "torch.Size([768, 768])\n",
      "torch.Size([768, 768])\n",
      "torch.Size([768, 768])\n",
      "torch.Size([768, 768])\n",
      "torch.Size([768])\n",
      "torch.Size([768])\n",
      "torch.Size([768])\n",
      "torch.Size([768])\n",
      "torch.Size([768])\n",
      "torch.Size([3072, 768])\n",
      "torch.Size([3072])\n",
      "torch.Size([768, 3072])\n",
      "torch.Size([768])\n",
      "torch.Size([768, 768])\n",
      "torch.Size([768, 768])\n",
      "torch.Size([768, 768])\n",
      "torch.Size([768, 768])\n",
      "torch.Size([768])\n",
      "torch.Size([768])\n",
      "torch.Size([768])\n",
      "torch.Size([768])\n",
      "torch.Size([768])\n",
      "torch.Size([3072, 768])\n",
      "torch.Size([3072])\n",
      "torch.Size([768, 3072])\n",
      "torch.Size([768])\n",
      "torch.Size([768, 768])\n",
      "torch.Size([768, 768])\n",
      "torch.Size([768, 768])\n",
      "torch.Size([768, 768])\n",
      "torch.Size([768])\n",
      "torch.Size([768])\n",
      "torch.Size([768])\n",
      "torch.Size([768])\n",
      "torch.Size([768])\n",
      "torch.Size([3072, 768])\n",
      "torch.Size([3072])\n",
      "torch.Size([768, 3072])\n",
      "torch.Size([768])\n",
      "torch.Size([768])\n",
      "torch.Size([768])\n",
      "torch.Size([50257, 768])\n"
     ]
    }
   ],
   "source": [
    "for p in model.parameters(): \n",
    "    print(p.shape)"
   ]
  },
  {
   "cell_type": "code",
   "execution_count": 24,
   "id": "26599c84",
   "metadata": {},
   "outputs": [
    {
     "name": "stdout",
     "output_type": "stream",
     "text": [
      "Shape of the Token Embedding Layer : torch.Size([50257, 768])\n",
      "Shape of the Linear Output Layer   : torch.Size([50257, 768])\n"
     ]
    }
   ],
   "source": [
    "print(f\"Shape of the Token Embedding Layer : {model.tok_emb.weight.shape}\")\n",
    "print(f\"Shape of the Linear Output Layer   : {model.out_head.weight.shape}\")"
   ]
  },
  {
   "cell_type": "code",
   "execution_count": 25,
   "id": "9fa1cd39",
   "metadata": {},
   "outputs": [
    {
     "name": "stdout",
     "output_type": "stream",
     "text": [
      "Total number of trainable parameters in GPT2 : 124,412,160\n"
     ]
    }
   ],
   "source": [
    "\"\"\"\n",
    "   In GPT2 , the parameters of the final linear layer are the same as the parameters of the token embedding layer [50257,768]\n",
    "   training only happens in the token embedding layer and the same weights are used in the final Linear Layer.\n",
    "   This is called Weight Tying , it reduces the overall memory footprint of the model and its computational complexity  \n",
    "\"\"\"\n",
    "\n",
    "total_params_GPT2 = sum(p.numel() for p in model.parameters()) - sum(p.numel() for p in model.out_head.parameters())\n",
    "print(f\"Total number of trainable parameters in GPT2 : {total_params_GPT2:,}\")"
   ]
  },
  {
   "cell_type": "code",
   "execution_count": 26,
   "id": "74b636af",
   "metadata": {},
   "outputs": [
    {
     "name": "stdout",
     "output_type": "stream",
     "text": [
      "Total amount of memory in Mbs needed for our 163M params model : 621.83 MB \n"
     ]
    }
   ],
   "source": [
    "## Memory requirement for 163 million params model\n",
    "total_size_bs = 163009536 * 4\n",
    "total_size_mbs = total_size_bs / (1024*1024)\n",
    "print(f\"Total amount of memory in Mbs needed for our 163M params model : {total_size_mbs:.2f} MB \")"
   ]
  },
  {
   "cell_type": "code",
   "execution_count": 27,
   "id": "c610815a",
   "metadata": {},
   "outputs": [],
   "source": [
    "GPT_CONFIG_XL = {\n",
    "\"vocab_size\": 50257, # Vocabulary size\n",
    "\"context_length\": 1024, # Context length ==> after 1024 tokens the model can predict the next token \n",
    "\"emb_dim\": 1600, # Embedding dimension\n",
    "\"n_heads\": 25, # Number of attention heads\n",
    "\"n_layers\": 48, # Number of layers\n",
    "\"drop_rate\": 0.1, # Dropout rate\n",
    "\"qkv_bias\": False # Query-Key-Value bias\n",
    "}\n",
    "torch.manual_seed(123)\n",
    "model = GPTModel(GPT_CONFIG_XL)\n",
    "out = model(batch_test)\n"
   ]
  },
  {
   "cell_type": "code",
   "execution_count": 28,
   "id": "71387d99",
   "metadata": {},
   "outputs": [
    {
     "name": "stdout",
     "output_type": "stream",
     "text": [
      "Total Number of parameters  : 1,637,792,000\n",
      "Total amount of memory in GBs needed for our 163M params model : 6.10 GB \n"
     ]
    }
   ],
   "source": [
    "total_params = sum(p.numel() for p in model.parameters())\n",
    "print(f\"Total Number of parameters  : {total_params:,}\")\n",
    "\n",
    "total_size_bs = total_params * 4\n",
    "total_size_gbs = total_size_bs / (1024*1024*1024)\n",
    "print(f\"Total amount of memory in GBs needed for our 163M params model : {total_size_gbs:.2f} GB \")"
   ]
  },
  {
   "cell_type": "markdown",
   "id": "984bf5c1",
   "metadata": {},
   "source": [
    "Generating text fom the GPT model output od size [batch_size , num_tokens , vocab_size]"
   ]
  },
  {
   "cell_type": "code",
   "execution_count": 29,
   "id": "aace8bd9",
   "metadata": {},
   "outputs": [],
   "source": [
    "def generate_next_token(model,idx,max_new_tokens,context_size) : \n",
    "    for _ in range(max_new_tokens) : \n",
    "        idx_cond = idx[:,-context_size:]\n",
    "        with torch.no_grad():\n",
    "            logits = model(idx_cond) ## logits will be of shape [batch_size , num_tokens , vocab_size]\n",
    "        \n",
    "        logits = logits[:,-1,:] ## we need only to focus on the last time step (which correspond to the position of the next token to predict)\n",
    "        ## logits is now of shape [batch_size , vocab_size]\n",
    "        probs  = F.softmax(logits,dim=-1) ## we want the softmax to be calculated over the 50257 values / [batch_size , 1]\n",
    "        idx_next = torch.argmax(probs,dim=-1,keepdim=True)\n",
    "        idx = torch.cat((idx , idx_next) , dim=1)\n",
    "    return idx"
   ]
  },
  {
   "cell_type": "code",
   "execution_count": 30,
   "id": "cc7ca06c",
   "metadata": {},
   "outputs": [
    {
     "name": "stdout",
     "output_type": "stream",
     "text": [
      "encoded input shape : torch.Size([1, 5])\n",
      "encoded input :  tensor([[15496,   837,   314,   716,   220]])\n",
      "Model Output  : tensor([[15496,   837,   314,   716,   220, 21458, 26203,  4358,  9408, 19674,\n",
      "         22966]])\n",
      "Output length : 11\n"
     ]
    }
   ],
   "source": [
    "start_context = \"Hello , I am \"\n",
    "encoded = tokenizer.encode(start_context)\n",
    "\n",
    "encoded_tensor = torch.tensor(encoded).unsqueeze(0) ## unsqueeze(0) to add the batch dim \n",
    "\n",
    "print(f\"encoded input shape : {encoded_tensor.shape}\")\n",
    "print(f\"encoded input :  {encoded_tensor}\")\n",
    "model = GPTModel(GPT_CONFIG_124M)\n",
    "model.eval()\n",
    "out = generate_next_token(\n",
    "    model=model,\n",
    "    idx=encoded_tensor,\n",
    "    max_new_tokens=6,\n",
    "    context_size=GPT_CONFIG_124M[\"context_length\"]\n",
    ")\n",
    "print(f\"Model Output  : {out}\")\n",
    "print(f\"Output length : {len(out[0])}\")"
   ]
  },
  {
   "cell_type": "code",
   "execution_count": 31,
   "id": "757f7da4",
   "metadata": {},
   "outputs": [
    {
     "name": "stdout",
     "output_type": "stream",
     "text": [
      "Final result : Hello , I am  Boo Darrenternal attitude Gren stint\n"
     ]
    }
   ],
   "source": [
    "decoded_text = tokenizer.decode(out.squeeze(0).tolist())\n",
    "print(f\"Final result : {decoded_text}\")"
   ]
  },
  {
   "cell_type": "code",
   "execution_count": null,
   "id": "4309f039",
   "metadata": {},
   "outputs": [],
   "source": []
  }
 ],
 "metadata": {
  "kernelspec": {
   "display_name": "venv",
   "language": "python",
   "name": "python3"
  },
  "language_info": {
   "codemirror_mode": {
    "name": "ipython",
    "version": 3
   },
   "file_extension": ".py",
   "mimetype": "text/x-python",
   "name": "python",
   "nbconvert_exporter": "python",
   "pygments_lexer": "ipython3",
   "version": "3.9.18"
  }
 },
 "nbformat": 4,
 "nbformat_minor": 5
}
