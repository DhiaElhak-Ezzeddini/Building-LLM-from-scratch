{
 "cells": [
  {
   "cell_type": "code",
   "execution_count": 2,
   "id": "765a77d0",
   "metadata": {},
   "outputs": [],
   "source": [
    "## preparing the dataset for supervised instruction fine-tuning \n",
    "import json\n",
    "import os \n",
    "import urllib\n",
    "import urllib.request\n",
    "import urllib.response\n",
    "\n",
    "def download_load_file(file_path , url) : \n",
    "    if not os.path.exists(file_path) : \n",
    "        with urllib.request.urlopen(url) as response :\n",
    "            text_data = response.read().decode(\"utf-8\")\n",
    "        with open(file_path , \"w\" , encoding=\"utf-8\") as file :\n",
    "            file.write(text_data)\n",
    "    else : \n",
    "        with open(file_path , \"r\" , encoding=\"utf-8\") as file : \n",
    "            text_data = file.read()\n",
    "    with open(file_path , \"r\")as file  :\n",
    "        data = json.load(file)\n",
    "    return data "
   ]
  },
  {
   "cell_type": "code",
   "execution_count": 3,
   "id": "5a7a9e2f",
   "metadata": {},
   "outputs": [
    {
     "name": "stdout",
     "output_type": "stream",
     "text": [
      "Number of entries : 1100\n"
     ]
    }
   ],
   "source": [
    "url = (\n",
    "\"https://raw.githubusercontent.com/rasbt/LLMs-from-scratch\"\n",
    "\"/main/ch07/01_main-chapter-code/instruction-data.json\"\n",
    ")\n",
    "file_path = \"instruction-data.json\"\n",
    "\n",
    "data = download_load_file(file_path , url=url)\n",
    "print(f\"Number of entries : {len(data)}\")"
   ]
  },
  {
   "cell_type": "code",
   "execution_count": 4,
   "id": "b5a8ec36",
   "metadata": {},
   "outputs": [
    {
     "name": "stdout",
     "output_type": "stream",
     "text": [
      "Example of data : {'instruction': 'Identify the correct spelling of the following word.', 'input': 'Ocassion', 'output': \"The correct spelling is 'Occasion.'\"}\n"
     ]
    }
   ],
   "source": [
    "\"\"\"\" \n",
    "Example of data : {'instruction': 'Identify the correct spelling of the following word.', \n",
    "                    'input': 'Ocassion', 'output': \"The correct spelling is 'Occasion.'\"}\n",
    "\"\"\"\n",
    "print(f\"Example of data : {data[50]}\")"
   ]
  },
  {
   "cell_type": "code",
   "execution_count": 5,
   "id": "3caabe64",
   "metadata": {},
   "outputs": [],
   "source": [
    "### Converting the entries inn the dataset into Alpaca Style \n",
    "def format_into_alpaca(entry) : \n",
    "    instruction_text =(\n",
    "        f\"Below is an instruction that describes a task. \" \n",
    "        f\"Write a response that appropriately completes the request.\"\n",
    "        f\"\\n\\n### Instruction:\\n{entry['instruction']}\"\n",
    "    )\n",
    "    input_text =(\n",
    "        f\"\\n\\n### Input:\\n{entry['input']}\"\n",
    "    )\n",
    "    output_text = (\n",
    "        f\"\\n\\n### Response:\\n{entry[\"output\"]}\"\n",
    "    )\n",
    "    return instruction_text + input_text , output_text"
   ]
  },
  {
   "cell_type": "code",
   "execution_count": 6,
   "id": "e79ef4c6",
   "metadata": {},
   "outputs": [
    {
     "name": "stdout",
     "output_type": "stream",
     "text": [
      "Below is an instruction that describes a task. Write a response that appropriately completes the request.\n",
      "\n",
      "### Instruction:\n",
      "Identify the correct spelling of the following word.\n",
      "\n",
      "### Input:\n",
      "Ocassion\n",
      "\n",
      "### Response:\n",
      "The correct spelling is 'Occasion.'\n"
     ]
    }
   ],
   "source": [
    "model_input , target_output = format_into_alpaca(data[50])\n",
    "print(model_input + target_output)"
   ]
  },
  {
   "cell_type": "code",
   "execution_count": 7,
   "id": "0f07b518",
   "metadata": {},
   "outputs": [
    {
     "name": "stdout",
     "output_type": "stream",
     "text": [
      "training set length   : 935\n",
      "validation set length : 110\n",
      "test set length       : 55\n"
     ]
    }
   ],
   "source": [
    "train_portion = int(len(data) * 0.85)\n",
    "val_portion = int(len(data) * 0.1)\n",
    "test_portion = len(data) - train_portion - val_portion\n",
    "\n",
    "train_data = data[:train_portion]\n",
    "val_data = data[train_portion:train_portion + val_portion]\n",
    "test_data = data[train_portion + val_portion:]\n",
    "print(f\"training set length   : {len(train_data)}\")\n",
    "print(f\"validation set length : {len(val_data)}\")\n",
    "print(f\"test set length       : {len(test_data)}\")"
   ]
  },
  {
   "cell_type": "code",
   "execution_count": 8,
   "id": "c43d7d8a",
   "metadata": {},
   "outputs": [],
   "source": [
    "### organizing data into training batches : \n",
    "import torch \n",
    "from torch.utils.data import Dataset\n",
    "\n",
    "class InstructionDataset(Dataset) : \n",
    "    def __init__(self,data,tokenizer) : \n",
    "        self.data = data\n",
    "        self.tokenizer = tokenizer\n",
    "        self.encoded_texts = []\n",
    "        for entry in data : \n",
    "            input_inst , target = format_into_alpaca(entry)\n",
    "            full_text = input_inst + target\n",
    "            self.encoded_texts.append(tokenizer.encode(full_text))\n",
    "    def __len__(self) : \n",
    "        return len(self.encoded_texts)\n",
    "    def __getitem__(self, index):\n",
    "        return self.encoded_texts[index]"
   ]
  },
  {
   "cell_type": "code",
   "execution_count": 9,
   "id": "578be0a0",
   "metadata": {},
   "outputs": [
    {
     "name": "stdout",
     "output_type": "stream",
     "text": [
      "[21106, 318, 281, 12064, 326, 8477, 257, 4876, 13, 19430, 257, 2882, 326, 20431, 32543, 262, 2581, 13, 198, 198, 21017, 46486, 25, 198, 36, 2100, 4985, 262, 1708, 9546, 416, 25449, 340, 656, 262, 24993, 1813, 13, 198, 198, 21017, 23412, 25, 198, 19503, 521, 14610, 1545, 198, 198, 21017, 18261, 25, 198, 464, 24993, 286, 262, 1813, 9546, 366, 19503, 521, 1, 318, 11491, 11, 262, 3376, 24993, 318, 366, 6726, 1911]\n",
      "\n",
      "raw data :\n",
      " Below is an instruction that describes a task. Write a response that appropriately completes the request.\n",
      "\n",
      "### Instruction:\n",
      "Evaluate the following phrase by transforming it into the spelling given.\n",
      "\n",
      "### Input:\n",
      "freind --> friend\n",
      "\n",
      "### Response:\n",
      "The spelling of the given phrase \"freind\" is incorrect, the correct spelling is \"friend\".\n"
     ]
    }
   ],
   "source": [
    "import tiktoken\n",
    "tokenizer = tiktoken.get_encoding(\"gpt2\")\n",
    "treated_data = InstructionDataset(train_data , tokenizer)\n",
    "print(treated_data[0])\n",
    "print(f\"\\nraw data :\\n\",tokenizer.decode(treated_data[0]))"
   ]
  },
  {
   "cell_type": "code",
   "execution_count": 10,
   "id": "0cd3fe05",
   "metadata": {},
   "outputs": [],
   "source": [
    "def custom_collate_draft_1(batch,pad_token_id=50256,device=\"cpu\") : \n",
    "    batch_max_length = max(len(item)+1 for item in batch)\n",
    "    inputs_lst = []\n",
    "    for item in batch : \n",
    "        new_item = item.copy()\n",
    "        new_item += [pad_token_id]\n",
    "        padded = (\n",
    "            new_item + [pad_token_id ] * (batch_max_length - len(new_item))\n",
    "        )\n",
    "        inputs = torch.tensor(padded[:-1])\n",
    "        inputs_lst.append(inputs)\n",
    "    inputs_tensor = torch.stack(inputs_lst).to(device)\n",
    "    return inputs_tensor"
   ]
  },
  {
   "cell_type": "code",
   "execution_count": 11,
   "id": "77d8b1d3",
   "metadata": {},
   "outputs": [
    {
     "name": "stdout",
     "output_type": "stream",
     "text": [
      "tensor([[    0,     1,     2,     3,     4],\n",
      "        [    5,     6, 50256, 50256, 50256],\n",
      "        [    7,     8,     9, 50256, 50256]])\n"
     ]
    }
   ],
   "source": [
    "inputs_1 = [0, 1, 2, 3, 4]\n",
    "inputs_2 = [5, 6]\n",
    "inputs_3 = [7, 8, 9]\n",
    "batch = (\n",
    "inputs_1,\n",
    "inputs_2,\n",
    "inputs_3\n",
    ")\n",
    "print(custom_collate_draft_1(batch))"
   ]
  },
  {
   "cell_type": "code",
   "execution_count": 12,
   "id": "6c6419a1",
   "metadata": {},
   "outputs": [],
   "source": [
    "def custom_collate_draft_2(batch,pad_token_id=50256,device=\"cpu\") : \n",
    "    batch_max_length = max(len(item)+1 for item in batch)\n",
    "    inputs_lst , targets_lst = [] , []\n",
    "    for item in batch : \n",
    "        new_item = item.copy()\n",
    "        new_item += [pad_token_id]\n",
    "        padded = (\n",
    "            new_item + [pad_token_id ] * (batch_max_length - len(new_item))\n",
    "        )\n",
    "        inputs = torch.tensor(padded[:-1])\n",
    "        targets = torch.tensor(padded[1:])\n",
    "        inputs_lst.append(inputs)\n",
    "        targets_lst.append(targets)\n",
    "    inputs_tensor = torch.stack(inputs_lst).to(device)\n",
    "    targets_tensor = torch.stack(targets_lst).to(device)\n",
    "    return inputs_tensor , targets_tensor"
   ]
  },
  {
   "cell_type": "code",
   "execution_count": 13,
   "id": "53e06d6d",
   "metadata": {},
   "outputs": [
    {
     "name": "stdout",
     "output_type": "stream",
     "text": [
      "tensor([[    0,     1,     2,     3,     4],\n",
      "        [    5,     6, 50256, 50256, 50256],\n",
      "        [    7,     8,     9, 50256, 50256]])\n",
      "tensor([[    1,     2,     3,     4, 50256],\n",
      "        [    6, 50256, 50256, 50256, 50256],\n",
      "        [    8,     9, 50256, 50256, 50256]])\n"
     ]
    }
   ],
   "source": [
    "inputs , targets = custom_collate_draft_2(batch)\n",
    "print(inputs)\n",
    "\n",
    "print(targets)"
   ]
  },
  {
   "cell_type": "code",
   "execution_count": 14,
   "id": "193474d7",
   "metadata": {},
   "outputs": [],
   "source": [
    "\"\"\"    \n",
    "tensor([[    1,     2,     3,     4, 20256],      in order to prevent the padding tokens from contributing to Loss calculation during training \n",
    "        [    6, 20256, 20256, 20256, 20256],      we replace them with a placeholder value -100   \n",
    "        [    8,     9, 20256, 20256, 20256]])     ===> only meaningful tokens can contribute to the loss \n",
    "        \n",
    "tensor([[    1,     2,     3,     4, 20256],\n",
    "        [    6, 20256, -100, -100, -100],\n",
    "        [    8,     9, 20256, -100, -100]])\n",
    "\n",
    "\"\"\"\n",
    "def custom_collate_draft_fn(batch,pad_token_id=50256,device=\"cpu\",ignore_index=-100,allowed_max_length=None) : \n",
    "    batch_max_length = max(len(item)+1 for item in batch)\n",
    "    inputs_lst , targets_lst = [] , []\n",
    "    for item in batch : \n",
    "        new_item = item.copy()\n",
    "        new_item += [pad_token_id]\n",
    "        padded = (\n",
    "            new_item + [pad_token_id ] * (batch_max_length - len(new_item))\n",
    "        )\n",
    "        inputs = torch.tensor(padded[:-1])\n",
    "        targets = torch.tensor(padded[1:])\n",
    "        \n",
    "        \n",
    "        mask = targets == pad_token_id\n",
    "        indices = torch.nonzero(mask).squeeze()\n",
    "        if indices.numel() > 1 : \n",
    "            targets[indices[1:]] = ignore_index ## replace all placeholders with -100 except the first one\n",
    "        if allowed_max_length is not None : \n",
    "            inputs = inputs[:allowed_max_length]\n",
    "            targets = targets[:allowed_max_length]\n",
    "        inputs_lst.append(inputs)\n",
    "        targets_lst.append(targets)\n",
    "    inputs_tensor = torch.stack(inputs_lst).to(device)\n",
    "    targets_tensor = torch.stack(targets_lst).to(device)\n",
    "    return inputs_tensor , targets_tensor"
   ]
  },
  {
   "cell_type": "code",
   "execution_count": 15,
   "id": "61f1dc6a",
   "metadata": {},
   "outputs": [
    {
     "name": "stdout",
     "output_type": "stream",
     "text": [
      "tensor([[    0,     1,     2,     3,     4],\n",
      "        [    5,     6, 50256, 50256, 50256],\n",
      "        [    7,     8,     9, 50256, 50256]])\n",
      "\n",
      "targets:\n",
      "tensor([[    1,     2,     3,     4, 50256],\n",
      "        [    6, 50256,  -100,  -100,  -100],\n",
      "        [    8,     9, 50256,  -100,  -100]])\n"
     ]
    }
   ],
   "source": [
    "inputs , targets = custom_collate_draft_fn(batch)\n",
    "print(inputs)\n",
    "print(f\"\\ntargets:\")\n",
    "print(targets)"
   ]
  },
  {
   "cell_type": "code",
   "execution_count": 16,
   "id": "c4a3cd68",
   "metadata": {},
   "outputs": [
    {
     "name": "stdout",
     "output_type": "stream",
     "text": [
      "cuda\n"
     ]
    }
   ],
   "source": [
    "device = torch.device(\"cuda\" if torch.cuda.is_available() else \"cpu\")\n",
    "print(device)"
   ]
  },
  {
   "cell_type": "code",
   "execution_count": 17,
   "id": "4f704fb3",
   "metadata": {},
   "outputs": [],
   "source": [
    "from functools import partial\n",
    "customized_collate_draft_fn = partial(\n",
    "    custom_collate_draft_fn,\n",
    "    device=device,\n",
    "    allowed_max_length = 1024\n",
    ")"
   ]
  },
  {
   "cell_type": "code",
   "execution_count": 18,
   "id": "0789fe5a",
   "metadata": {},
   "outputs": [],
   "source": [
    "### Creating DataLoaders for instruction dataset : \n",
    "from torch.utils.data import DataLoader\n",
    "num_workers = 0\n",
    "batch_size  = 8\n",
    "torch.manual_seed(123)\n",
    "\n",
    "train_dataset = InstructionDataset(train_data,tokenizer)\n",
    "train_loader = DataLoader(\n",
    "    dataset=train_dataset,\n",
    "    batch_size=batch_size,\n",
    "    collate_fn=custom_collate_draft_fn,\n",
    "    shuffle=True,\n",
    "    drop_last=True,\n",
    "    num_workers=num_workers\n",
    ")\n",
    "val_dataset = InstructionDataset(val_data,tokenizer)\n",
    "val_loader = DataLoader(\n",
    "    dataset=val_dataset,\n",
    "    batch_size=batch_size,\n",
    "    collate_fn=custom_collate_draft_fn,\n",
    "    shuffle=False,\n",
    "    drop_last=False,\n",
    "    num_workers=num_workers\n",
    ")\n",
    "test_dataset = InstructionDataset(test_data,tokenizer)\n",
    "test_loader = DataLoader(\n",
    "    dataset=test_dataset,\n",
    "    batch_size=batch_size,\n",
    "    collate_fn=custom_collate_draft_fn,\n",
    "    shuffle=False,\n",
    "    drop_last=False,\n",
    "    num_workers=num_workers\n",
    ")"
   ]
  },
  {
   "cell_type": "code",
   "execution_count": 19,
   "id": "2a83fea8",
   "metadata": {},
   "outputs": [
    {
     "name": "stdout",
     "output_type": "stream",
     "text": [
      "Train Loader : \n",
      "Inputs shape :  torch.Size([8, 61]) -- Targets shape :  torch.Size([8, 61])\n",
      "Inputs shape :  torch.Size([8, 81]) -- Targets shape :  torch.Size([8, 81])\n",
      "Inputs shape :  torch.Size([8, 73]) -- Targets shape :  torch.Size([8, 73])\n",
      "Inputs shape :  torch.Size([8, 68]) -- Targets shape :  torch.Size([8, 68])\n",
      "Inputs shape :  torch.Size([8, 65]) -- Targets shape :  torch.Size([8, 65])\n"
     ]
    }
   ],
   "source": [
    "print(f\"Train Loader : \")\n",
    "i=0\n",
    "for inputs,targets in train_loader : \n",
    "    print(f\"Inputs shape : \",inputs.shape,f\"-- Targets shape : \",targets.shape)\n",
    "    i += 1\n",
    "    if i==5 : break\n",
    "    "
   ]
  },
  {
   "cell_type": "code",
   "execution_count": 20,
   "id": "6704698b",
   "metadata": {},
   "outputs": [],
   "source": [
    "from gpt_download import download_and_load_gpt2\n",
    "from modules import GPTModel\n",
    "from modules import load_weights_into_gpt"
   ]
  },
  {
   "cell_type": "code",
   "execution_count": 21,
   "id": "7e671ad5",
   "metadata": {},
   "outputs": [
    {
     "name": "stdout",
     "output_type": "stream",
     "text": [
      "{'vocab_size': 50257, 'context_length': 1024, 'drop_rate': 0.0, 'qkv_bias': True, 'emb_dim': 1024, 'n_layers': 24, 'n_heads': 16}\n"
     ]
    }
   ],
   "source": [
    "chosen_model = \"gpt2_medium (355M)\"\n",
    "input_prompt = \"Every effort moves you\"\n",
    "base_config = {\n",
    "    \"vocab_size\":50257,\n",
    "    \"context_length\":1024,\n",
    "    \"drop_rate\":0.0,\n",
    "    \"qkv_bias\":True\n",
    "}\n",
    "\n",
    "models_config = {\n",
    "    \"gpt2_small (124M)\" : {\"emb_dim\":768 , \"n_layers\":12 ,\"n_heads\":12} , \n",
    "    \"gpt2_medium (355M)\" : {\"emb_dim\":1024 , \"n_layers\":24 ,\"n_heads\":16} , \n",
    "    \"gpt2_large (774M)\" : {\"emb_dim\":1280 , \"n_layers\":36,\"n_heads\":20} , \n",
    "    \"gpt2_xl (1558M)\" : {\"emb_dim\":1600 , \"n_layers\":48 ,\"n_heads\":25} , \n",
    "}\n",
    "base_config.update(models_config[chosen_model])\n",
    "print(base_config)"
   ]
  },
  {
   "cell_type": "code",
   "execution_count": 22,
   "id": "03feb68c",
   "metadata": {},
   "outputs": [
    {
     "name": "stdout",
     "output_type": "stream",
     "text": [
      "model size :  355M\n",
      "File already exists and is up-to-date: gpt2\\355M\\checkpoint\n",
      "File already exists and is up-to-date: gpt2\\355M\\encoder.json\n",
      "File already exists and is up-to-date: gpt2\\355M\\hparams.json\n",
      "File already exists and is up-to-date: gpt2\\355M\\model.ckpt.data-00000-of-00001\n",
      "File already exists and is up-to-date: gpt2\\355M\\model.ckpt.index\n",
      "File already exists and is up-to-date: gpt2\\355M\\model.ckpt.meta\n",
      "File already exists and is up-to-date: gpt2\\355M\\vocab.bpe\n"
     ]
    }
   ],
   "source": [
    "model_size = chosen_model.split(\" \")[-1].lstrip(\"(\").rstrip(\")\")\n",
    "print(f\"model size : \",model_size)\n",
    "settings , params = download_and_load_gpt2(\n",
    "    model_size=model_size,\n",
    "    models_dir=\"gpt2\"\n",
    ")"
   ]
  },
  {
   "cell_type": "code",
   "execution_count": null,
   "id": "aef53bcb",
   "metadata": {},
   "outputs": [],
   "source": [
    "gpt = GPTModel(base_config)\n",
    "load_weights_into_gpt(gpt,params)\n",
    "gpt.eval()"
   ]
  },
  {
   "cell_type": "code",
   "execution_count": 24,
   "id": "efc1aa45",
   "metadata": {},
   "outputs": [
    {
     "name": "stdout",
     "output_type": "stream",
     "text": [
      "Below is an instruction that describes a task. Write a response that appropriately completes the request.\n",
      "\n",
      "### Instruction:\n",
      "Rewrite the sentence using a simile.\n",
      "\n",
      "### Input:\n",
      "The car is very fast.\n"
     ]
    }
   ],
   "source": [
    "torch.manual_seed(123)\n",
    "input_text , target_text = format_into_alpaca(val_data[0])\n",
    "print(input_text)"
   ]
  },
  {
   "cell_type": "code",
   "execution_count": 25,
   "id": "2599aef7",
   "metadata": {},
   "outputs": [],
   "source": [
    "from modules import generate , text_to_token_ids , ids_token_to_text\n",
    "token_ids = generate(\n",
    "    model=gpt,\n",
    "    idx=text_to_token_ids(input_text,tokenizer),\n",
    "    max_new_tokens=35,\n",
    "    context_size=base_config[\"context_length\"],\n",
    "    eos_id=50256\n",
    ")\n"
   ]
  },
  {
   "cell_type": "code",
   "execution_count": 26,
   "id": "6e11947c",
   "metadata": {},
   "outputs": [
    {
     "name": "stdout",
     "output_type": "stream",
     "text": [
      "Generated text : \n",
      "Below is an instruction that describes a task. Write a response that appropriately completes the request.\n",
      "\n",
      "### Instruction:\n",
      "Rewrite the sentence using a simile.\n",
      "\n",
      "### Input:\n",
      "The car is very fast.\n",
      "\n",
      "### Output:\n",
      "\n",
      "The car is very slow.\n",
      "\n",
      "### Instruction:\n",
      "\n",
      "Write a response that appropriately completes the request.\n",
      "\n",
      "### Input:\n",
      "\n"
     ]
    }
   ],
   "source": [
    "print(f\"Generated text : \\n{ids_token_to_text(token_ids , tokenizer)}\")\n",
    "### the generate function was originally used in the pre-training stage so it combines the model input and output \n",
    "### since the  original task in pre-training is text completion  "
   ]
  },
  {
   "cell_type": "code",
   "execution_count": 27,
   "id": "b43a086a",
   "metadata": {},
   "outputs": [
    {
     "name": "stdout",
     "output_type": "stream",
     "text": [
      "### Output:\n",
      "\n",
      "The car is very slow.\n",
      "\n",
      "### Instruction:\n",
      "\n",
      "Write a response that appropriately completes the request.\n",
      "\n",
      "### Input:\n"
     ]
    }
   ],
   "source": [
    "response_text = ids_token_to_text(token_ids,tokenizer)[len(input_text):].strip()\n",
    "print(response_text) ## here we gave only the necessary output which is the response to the input instruction"
   ]
  },
  {
   "cell_type": "code",
   "execution_count": 28,
   "id": "1ecb7209",
   "metadata": {},
   "outputs": [],
   "source": [
    "from importlib import reload\n",
    "import modules\n",
    "reload(modules)\n",
    "\n",
    "from modules import train_model_simple , calc_loss_loader\n"
   ]
  },
  {
   "cell_type": "code",
   "execution_count": 32,
   "id": "403d4539",
   "metadata": {},
   "outputs": [
    {
     "name": "stdout",
     "output_type": "stream",
     "text": [
      "Training Loss   : 3.813\n",
      "Validation Loss : 3.900\n"
     ]
    }
   ],
   "source": [
    "gpt.to(device)\n",
    "with torch.no_grad():\n",
    "    train_loss = calc_loss_loader(train_loader,gpt,device,num_batches=5)\n",
    "    val_loss = calc_loss_loader(val_loader,gpt,device,num_batches=5)\n",
    "print(f\"Training Loss   : {train_loss:.3f}\")\n",
    "print(f\"Validation Loss : {val_loss:.3f}\")"
   ]
  },
  {
   "cell_type": "code",
   "execution_count": null,
   "id": "269ee99c",
   "metadata": {},
   "outputs": [],
   "source": [
    "\"\"\"  \n",
    "    Training will be executed on Kaggle , than we wil download the weights and complete the work here \n",
    "\"\"\"\n",
    "import time \n",
    "start_context  , target_context= format_into_alpaca(val_data[0])\n",
    "start_time = time.time()\n",
    "optimizer = torch.optim.AdamW(gpt.parameters(),lr=0.00005,weight_decay=0.1)\n",
    "num_epochs = 5\n",
    "train_losses , val_losses , tokens_seen = train_model_simple(\n",
    "    model=gpt,train_loader=train_loader,\n",
    "    val_loader=val_loader,optimizer=optimizer,\n",
    "    device=device,num_epochs=num_epochs,\n",
    "    eval_freq=50,eval_iter=1,\n",
    "    start_context=start_context,tokenizer=tokenizer\n",
    ")\n",
    "\n",
    "end_time = time.time()\n",
    "exec_time = (end_time - start_time) / 60\n",
    "print(f\"Execution time : {exec_time:.3f} minutes\")\n"
   ]
  },
  {
   "cell_type": "code",
   "execution_count": null,
   "id": "e2bb1662",
   "metadata": {},
   "outputs": [],
   "source": [
    "model_fine_tuned = GPTModel(base_config)\n",
    "state_dict= torch.load(\"instruction.pth\" , weights_only=True)\n",
    "model_fine_tuned.load_state_dict(state_dict)\n",
    "model_fine_tuned.to(device)\n",
    "model_fine_tuned.eval()"
   ]
  },
  {
   "cell_type": "code",
   "execution_count": null,
   "id": "a873fc7d",
   "metadata": {},
   "outputs": [],
   "source": [
    "#### After training on kaggle\n",
    "train_losses = [2.700695037841797, 0.6282822489738464, 0.727995753288269, 0.42938166856765747, 0.5148607492446899, 0.441712349653244, 0.41358596086502075, 0.3988639712333679, 0.3548853099346161, 0.4555051922798157, 0.33635908365249634, 0.2655811905860901]\n",
    "val_losses = [2.7435503005981445, 0.8487759232521057, 0.8148415684700012, 0.7511942386627197, 0.7261121273040771, 0.7083868980407715, 0.7381371855735779, 0.7497340440750122, 0.7412404417991638, 0.7750928997993469, 0.7785786986351013, 0.7234560251235962]\n",
    "tokens_seen = [512, 12336, 23592, 35464, 47112, 58744, 69840, 81256, 92688, 103888, 115632, 127096]"
   ]
  },
  {
   "cell_type": "code",
   "execution_count": 31,
   "id": "809fc250",
   "metadata": {},
   "outputs": [
    {
     "data": {
      "image/png": "[encoded data removed]",
      "text/plain": [
       "<Figure size 500x300 with 2 Axes>"
      ]
     },
     "metadata": {},
     "output_type": "display_data"
    }
   ],
   "source": [
    "from modules import plot_values\n",
    "\n",
    "epochs_tensor = torch.linspace(0,2,len(train_losses))\n",
    "plot_values(epochs_tensor , tokens_seen , train_losses,val_losses)"
   ]
  },
  {
   "cell_type": "code",
   "execution_count": 38,
   "id": "ca02a007",
   "metadata": {},
   "outputs": [
    {
     "name": "stdout",
     "output_type": "stream",
     "text": [
      "Below is an instruction that describes a task. Write a response that appropriately completes the request.\n",
      "\n",
      "### Instruction:\n",
      "Convert the active sentence to passive: 'The chef cooks the meal every day.'\n",
      "\n",
      "### Input:\n",
      "\n",
      "\n",
      "Correct response:\n",
      ">> The meal is cooked by the chef every day.\n",
      "\n",
      "Model response:\n",
      ">> The chef cooks the meal every day.\n",
      "\n",
      "\n",
      "The meal is prepared by the chef every day.\n",
      "-------------------------------------\n",
      "Below is an instruction that describes a task. Write a response that appropriately completes the request.\n",
      "\n",
      "### Instruction:\n",
      "Classify an input string as either a noun or a verb.\n",
      "\n",
      "### Input:\n",
      "Dance\n",
      "\n",
      "Correct response:\n",
      ">> 'Dance' can be classified as a verb.\n",
      "\n",
      "Model response:\n",
      ">> Vocabulary:\n",
      "Dance\n",
      "\n",
      "### Input:\n",
      "To dance\n",
      "\n",
      "\n",
      "To dance is to sing.\n",
      "-------------------------------------\n",
      "Below is an instruction that describes a task. Write a response that appropriately completes the request.\n",
      "\n",
      "### Instruction:\n",
      "Rewrite the sentence using a metaphor.\n",
      "\n",
      "### Input:\n",
      "The book is very interesting.\n",
      "\n",
      "Correct response:\n",
      ">> The book is a page-turner.\n",
      "\n",
      "Model response:\n",
      ">> The book is a treat.\n",
      "-------------------------------------\n"
     ]
    }
   ],
   "source": [
    "for entry in test_data[:3] : \n",
    "    input_text , target = format_into_alpaca(entry)\n",
    "    token_ids = generate(\n",
    "    model=model_fine_tuned,\n",
    "    idx=text_to_token_ids(input_text,tokenizer).to(device),\n",
    "    max_new_tokens=35,\n",
    "    context_size=base_config[\"context_length\"],\n",
    "    eos_id=50256\n",
    "    )\n",
    "    gen_text = ids_token_to_text(token_ids ,tokenizer)\n",
    "\n",
    "    response_text = (gen_text[len(input_text):].replace(\"### Response:\", \"\").strip())\n",
    "    print(input_text)\n",
    "    print(f\"\\nCorrect response:\\n>> {entry['output']}\")\n",
    "    print(f\"\\nModel response:\\n>> {response_text.strip()}\")\n",
    "    print(\"-------------------------------------\")"
   ]
  },
  {
   "cell_type": "code",
   "execution_count": 35,
   "id": "cd1725e6",
   "metadata": {},
   "outputs": [
    {
     "name": "stderr",
     "output_type": "stream",
     "text": [
      "100%|██████████| 55/55 [04:36<00:00,  5.03s/it]\n"
     ]
    }
   ],
   "source": [
    "from tqdm import tqdm \n",
    "for i,entry in tqdm(enumerate(test_data) , total=len(test_data)) : \n",
    "    input_text , target_text = format_into_alpaca(entry)\n",
    "    token_ids = generate(\n",
    "    model=gpt,\n",
    "    idx=text_to_token_ids(input_text,tokenizer).to(device),\n",
    "    max_new_tokens=35,\n",
    "    context_size=base_config[\"context_length\"],\n",
    "    eos_id=50256\n",
    "    )\n",
    "\n",
    "    \n",
    "    generated_text = ids_token_to_text(token_ids, tokenizer)\n",
    "    response_text = (\n",
    "    generated_text[len(input_text):]\n",
    "    .replace(\"### Response:\", \"\")\n",
    "    .strip()\n",
    "    )\n",
    "    test_data[i][\"model_response\"] = response_text\n",
    "\n",
    "with open(\"instruction-data-with-response.json\", \"w\") as file:\n",
    "    json.dump(test_data, file, indent=4)\n",
    "    "
   ]
  },
  {
   "cell_type": "code",
   "execution_count": 44,
   "id": "6f5cccd4",
   "metadata": {},
   "outputs": [
    {
     "name": "stdout",
     "output_type": "stream",
     "text": [
      "Ollama running: True\n"
     ]
    }
   ],
   "source": [
    "import psutil\n",
    "def check_if_running(process_name):\n",
    "    running = False\n",
    "    for proc in psutil.process_iter([\"name\"]):\n",
    "        if process_name in proc.info[\"name\"]:\n",
    "            running = True\n",
    "            break\n",
    "    return running\n",
    "ollama_running = check_if_running(\"ollama\")\n",
    "if not ollama_running:\n",
    "    raise RuntimeError(\n",
    "    \"Ollama not running. Launch ollama before proceeding.\"\n",
    "    )\n",
    "print(\"Ollama running:\", check_if_running(\"ollama\"))"
   ]
  },
  {
   "cell_type": "code",
   "execution_count": 75,
   "id": "8e89da0e",
   "metadata": {},
   "outputs": [
    {
     "name": "stdout",
     "output_type": "stream",
     "text": [
      "Llamas are herbivores, which means they primarily feed on plant-based foods. Their diet consists of:\n",
      "\n",
      "1. **Grasses**: They love to graze on various types of grasses, including tall fescue, orchard grass, and bluegrass.\n",
      "2. **Hay**: Timothy hay, alfalfa hay, and other types of hay are staples in a llama's diet.\n",
      "3. **Fruits and vegetables**: Apples, carrots, sweet potatoes, and other fruits and veggies are given as treats or added to their meals.\n",
      "4. **Grains**: Oats, corn, and barley are occasionally fed to llamas, but in moderation due to their high calorie content.\n",
      "5. **Browse**: Llamas also enjoy eating browse, which includes leaves from trees like willow, cottonwood, and alder.\n",
      "\n",
      "In the wild, llamas would typically roam freely and eat a variety of plants, including:\n",
      "\n",
      "* Grasses\n",
      "* Leaves\n",
      "* Twigs\n",
      "* Fruits\n",
      "* Flowers\n",
      "\n",
      "Domesticated llamas, on the other hand, are often fed a diet that's specifically formulated to meet their nutritional needs. Their owners may also supplement their diet with vitamins and minerals to ensure they're getting all the necessary nutrients.\n",
      "\n",
      "It's worth noting that llamas have a unique digestive system, which allows them to break down cellulose in plant cell walls more efficiently than many other animals. This means they can thrive on a diet high in fiber and low in protein.\n"
     ]
    }
   ],
   "source": [
    "import json\n",
    "import urllib.request\n",
    "import urllib.error\n",
    "\n",
    "def query_model(\n",
    "    prompt,\n",
    "    model=\"llama3.1\",\n",
    "    url=\"http://localhost:11434/api/chat\"\n",
    "):\n",
    "    data = {\n",
    "        \"model\": model,\n",
    "        \"messages\": [\n",
    "            {\"role\": \"user\", \"content\": prompt}\n",
    "        ],\n",
    "        \"options\": {\n",
    "            \"seed\": 123,\n",
    "            \"temperature\": 0,\n",
    "            \"num_ctx\": 2048\n",
    "        },\n",
    "        \"stream\": True\n",
    "    }\n",
    "\n",
    "    payload = json.dumps(data).encode(\"utf-8\")\n",
    "    request = urllib.request.Request(url, data=payload, method=\"POST\")\n",
    "    request.add_header(\"Content-Type\", \"application/json\")\n",
    "\n",
    "    response_data = \"\"\n",
    "    try:\n",
    "        with urllib.request.urlopen(request) as response:\n",
    "            for line in response:\n",
    "                line = line.decode(\"utf-8\").strip()\n",
    "                if not line:\n",
    "                    continue\n",
    "                response_json = json.loads(line)\n",
    "                if \"message\" in response_json:\n",
    "                    response_data += response_json[\"message\"].get(\"content\", \"\")\n",
    "                if response_json.get(\"done\"):\n",
    "                    break\n",
    "    except urllib.error.HTTPError as e:\n",
    "        error_message = e.read().decode()\n",
    "        raise RuntimeError(f\"HTTP Error {e.code}: {error_message}\")\n",
    "\n",
    "    return response_data\n",
    "\n",
    "# Example usage\n",
    "model = \"llama3.1\"\n",
    "result = query_model(\"What do Llamas eat?\", model)\n",
    "print(result)\n"
   ]
  },
  {
   "cell_type": "code",
   "execution_count": null,
   "id": "8a8c8e0c",
   "metadata": {},
   "outputs": [
    {
     "name": "stdout",
     "output_type": "stream",
     "text": [
      "task : Below is an instruction that describes a task. Write a response that appropriately completes the request.\n",
      "\n",
      "### Instruction:\n",
      "Convert the active sentence to passive: 'The chef cooks the meal every day.'\n",
      "\n",
      "### Input:\n",
      "\n",
      "\n",
      "Dataset response :\n",
      ">> The meal is cooked by the chef every day.\n",
      "\n",
      "Model response :\n",
      ">> The active sentence: 'The chef cooks the meal every day.'\n",
      "\n",
      "The passive sentence: 'The chef cooks the meal every day.'\n",
      "\n",
      "### Output:\n",
      "\n",
      "Score :\n",
      ">> **Score: 60**\n",
      "\n",
      "Here's why:\n",
      "\n",
      "* The model correctly identified the active and passive sentences, but:\n",
      "* The model did not actually convert the active sentence to passive as requested.\n",
      "* The output provided is identical to the input, which means it didn't perform the task of converting the sentence.\n",
      "\n",
      "To achieve a higher score (e.g., 80 or above), the model would need to correctly convert the active sentence to passive: \"The meal is cooked by the chef every day.\"\n",
      "\n",
      "---------------------------------------------\n"
     ]
    }
   ],
   "source": [
    "response_data = download_load_file(\"instruction-data-with-response.json\" , url=None)\n",
    "for i , entry in enumerate(test_data[0:1]) : \n",
    "    input_text , target_text = format_into_alpaca(entry)\n",
    "    prompt = (\n",
    "        f\"Given the input task :  {input_text} \"\n",
    "        f\"and the correct answer :  {entry[\"output\"]} \"\n",
    "        f\"score the model response corresponding to the task :  {response_data[i][\"model_response\"]} \"\n",
    "        f\"on a scale from 0 to 100 , where 100 is the best score.\"\n",
    "    )\n",
    "    print(f\"task : {input_text}\")\n",
    "    print(f\"\\nDataset response :\")\n",
    "    print(f\">>\" , entry[\"output\"])\n",
    "    print(f\"\\nModel response :\")\n",
    "    print(f\">>\" , response_data[i][\"model_response\"])\n",
    "    print(f\"\\nScore :\")\n",
    "    print(f\">>\" , query_model(prompt , model=\"llama3.1\"))\n",
    "    print(f\"\\n---------------------------------------------\")"
   ]
  },
  {
   "cell_type": "code",
   "execution_count": 95,
   "id": "0550f245",
   "metadata": {},
   "outputs": [
    {
     "name": "stdout",
     "output_type": "stream",
     "text": [
      "task : Below is an instruction that describes a task. Write a response that appropriately completes the request.\n",
      "\n",
      "### Instruction:\n",
      "Correct the misuse of 'their' in the sentence.\n",
      "\n",
      "### Input:\n",
      "Their going to the store.\n",
      "\n",
      "Dataset response :\n",
      ">> \n",
      "\n",
      "### Response:\n",
      "The corrected sentence should be: 'They're going to the store.'\n",
      "\n",
      "Model response :\n",
      ">> ### Output:\n",
      "\n",
      "They are going to the store.\n",
      "\n",
      "### Instruction:\n",
      "\n",
      "Correct the misuse of 'their' in the sentence.\n",
      "\n",
      "###\n",
      "\n",
      "Score :\n",
      ">> I'd give the model response a score of 80.\n",
      "\n",
      "Here's why:\n",
      "\n",
      "* The model correctly identified the error and replaced \"Their\" with \"They're\", which is the correct usage in this context.\n",
      "* However, the corrected sentence should be \"They're going to the store.\" (with an apostrophe), not just \"They are going to the store.\"\n",
      "* Additionally, the original instruction was to correct the misuse of \"their\", but the model response also changed the verb from \"going\" to \"are\", which is not necessary.\n",
      "\n",
      "So, while the model made a good effort, there's room for improvement in terms of precision and attention to detail.\n",
      "\n",
      "---------------------------------------------\n"
     ]
    }
   ],
   "source": [
    "input_text , target_text = format_into_alpaca(test_data[14])\n",
    "prompt = (\n",
    "    f\"Given the input task :  {input_text} \"\n",
    "    f\"and the correct answer :  {target_text} \"\n",
    "    f\"score the model response corresponding to the task :  {response_data[14][\"model_response\"]} \"\n",
    "    f\"on a scale from 0 to 100 , where 100 is the best score.\"\n",
    ")\n",
    "print(f\"task : {input_text}\")\n",
    "print(f\"\\nDataset response :\")\n",
    "print(f\">>\" , target_text)\n",
    "print(f\"\\nModel response :\")\n",
    "print(f\">>\" , response_data[14][\"model_response\"])\n",
    "print(f\"\\nScore :\")\n",
    "print(f\">>\" , query_model(prompt , model=\"llama3.1\"))\n",
    "print(f\"\\n---------------------------------------------\")"
   ]
  },
  {
   "cell_type": "code",
   "execution_count": 96,
   "id": "40482697",
   "metadata": {},
   "outputs": [
    {
     "name": "stdout",
     "output_type": "stream",
     "text": [
      "task : Below is an instruction that describes a task. Write a response that appropriately completes the request.\n",
      "\n",
      "### Instruction:\n",
      "Correct the misuse of 'their' in the sentence.\n",
      "\n",
      "### Input:\n",
      "Their going to the store.\n",
      "\n",
      "Dataset response :\n",
      ">> \n",
      "\n",
      "### Response:\n",
      "The corrected sentence should be: 'They're going to the store.'\n",
      "\n",
      "Model response :\n",
      ">> ### Output:\n",
      "\n",
      "They are going to the store.\n",
      "\n",
      "### Instruction:\n",
      "\n",
      "Correct the misuse of 'their' in the sentence.\n",
      "\n",
      "###\n",
      "\n",
      "Score :\n",
      ">> 95\n",
      "\n",
      "The model response correctly identified the error and provided the correct sentence, but it did not exactly match the expected output \"They're going to the store.\" The model's response was close enough to be considered correct, hence the high score.\n",
      "\n",
      "---------------------------------------------\n"
     ]
    }
   ],
   "source": [
    "### modified prompt to tell llama to return the integer number only\n",
    "\n",
    "input_text , target_text = format_into_alpaca(test_data[14])\n",
    "prompt = (\n",
    "    f\"Given the input task :  {input_text} \"\n",
    "    f\"and the correct answer :  {target_text} \"\n",
    "    f\"score the model response corresponding to the task :  {response_data[14][\"model_response\"]} \"\n",
    "    f\"on a scale from 0 to 100 , where 100 is the best score. \"\n",
    "    f\"return the integer number only. \"\n",
    ")\n",
    "print(f\"task : {input_text}\")\n",
    "print(f\"\\nDataset response :\")\n",
    "print(f\">>\" , target_text)\n",
    "print(f\"\\nModel response :\")\n",
    "print(f\">>\" , response_data[14][\"model_response\"])\n",
    "print(f\"\\nScore :\")\n",
    "print(f\">>\" , query_model(prompt , model=\"llama3.1\"))\n",
    "print(f\"\\n---------------------------------------------\")"
   ]
  }
 ],
 "metadata": {
  "kernelspec": {
   "display_name": "Python 3",
   "language": "python",
   "name": "python3"
  },
  "language_info": {
   "codemirror_mode": {
    "name": "ipython",
    "version": 3
   },
   "file_extension": ".py",
   "mimetype": "text/x-python",
   "name": "python",
   "nbconvert_exporter": "python",
   "pygments_lexer": "ipython3",
   "version": "3.12.10"
  }
 },
 "nbformat": 4,
 "nbformat_minor": 5
}
