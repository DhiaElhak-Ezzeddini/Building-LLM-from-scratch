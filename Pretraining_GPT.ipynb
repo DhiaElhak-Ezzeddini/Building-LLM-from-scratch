{
 "cells": [
  {
   "cell_type": "code",
   "execution_count": 6,
   "id": "842ddb8c",
   "metadata": {},
   "outputs": [],
   "source": [
    "import torch\n",
    "import torch.nn as nn\n",
    "import tiktoken\n",
    "from torch.nn import functional as F\n",
    "from modules import GPTModel, TransformerBlock ,LayerNorm ,GELU ,FeedForward , MultiHeadAttention\n",
    "import modules\n",
    "import importlib\n",
    "importlib.reload(modules)\n",
    "\n",
    "from modules import GPTDatasetV1 , create_dataloader_v1 ,generate_next_token"
   ]
  },
  {
   "cell_type": "code",
   "execution_count": null,
   "id": "269b0391",
   "metadata": {},
   "outputs": [],
   "source": [
    "GPT_CONFIG_124M = {\n",
    "    \"vocab_size\": 50257,\n",
    "    \"context_length\": 256,\n",
    "    \"emb_dim\": 768,\n",
    "    \"n_heads\": 12,\n",
    "    \"n_layers\": 12,\n",
    "    \"drop_rate\": 0.1,\n",
    "    \"qkv_bias\": False\n",
    "}\n",
    "torch.manual_seed(123)\n",
    "model = GPTModel(GPT_CONFIG_124M)\n",
    "model.eval()"
   ]
  },
  {
   "cell_type": "code",
   "execution_count": 8,
   "id": "b77542e6",
   "metadata": {},
   "outputs": [],
   "source": [
    "def text_to_token_ids(text , tokenizer):\n",
    "    encoded = tokenizer.encode(text,allowed_special={'<|endoftext|>'})\n",
    "    encoded_tensor = torch.tensor(encoded).unsqueeze(0) ## add the batch dimension \n",
    "    return encoded_tensor\n",
    "\n",
    "\n",
    "def ids_token_to_text(ids , tokenizer) : \n",
    "    flat = ids.squeeze(0) ## remove batch dimension\n",
    "    decoded = tokenizer.decode(flat.tolist())\n",
    "    return decoded\n",
    "    "
   ]
  },
  {
   "cell_type": "code",
   "execution_count": 9,
   "id": "191f71ce",
   "metadata": {},
   "outputs": [
    {
     "name": "stdout",
     "output_type": "stream",
     "text": [
      "Model Output : Every effort moves you  Stores CommanderTra Warm stereotypes eventual\n"
     ]
    }
   ],
   "source": [
    "text = \"Every effort moves you \"\n",
    "tokenizer = tiktoken.get_encoding(\"gpt2\")\n",
    "token_ids = generate_next_token(\n",
    "    model=model,\n",
    "    idx = text_to_token_ids(text,tokenizer) , \n",
    "    max_new_tokens=6,\n",
    "    context_size=GPT_CONFIG_124M[\"context_length\"]\n",
    ")\n",
    "print(f\"Model Output : {ids_token_to_text(token_ids,tokenizer)}\")"
   ]
  },
  {
   "cell_type": "code",
   "execution_count": 10,
   "id": "254a64cd",
   "metadata": {},
   "outputs": [],
   "source": [
    "text1 = \"every effort moves\"\n",
    "text2 = \"I really like\"\n",
    "\n",
    "target1 = \"effort moves you forward\"\n",
    "target2 = \"really like chocolate\""
   ]
  },
  {
   "cell_type": "code",
   "execution_count": 11,
   "id": "e57b86a3",
   "metadata": {},
   "outputs": [],
   "source": [
    "inputs = torch.tensor([[16833, 3626, 6100],[40, 1107, 588]])\n",
    "targets = torch.tensor([[3626, 6100, 345 ], [1107, 588, 11311]])"
   ]
  },
  {
   "cell_type": "code",
   "execution_count": 12,
   "id": "f8c659f5",
   "metadata": {},
   "outputs": [
    {
     "name": "stdout",
     "output_type": "stream",
     "text": [
      "device : cpu\n"
     ]
    }
   ],
   "source": [
    "device = torch.device(\"cuda\" if torch.cuda.is_available() else \"cpu\")\n",
    "print(f\"device : {device}\")"
   ]
  },
  {
   "cell_type": "code",
   "execution_count": 13,
   "id": "26f15453",
   "metadata": {},
   "outputs": [
    {
     "name": "stdout",
     "output_type": "stream",
     "text": [
      "tensor([[[ 0.1113, -0.1057, -0.3666,  ...,  0.2843, -0.8824,  0.1074],\n",
      "         [-0.6109, -0.5167, -0.7613,  ...,  0.5450, -1.0319, -0.2175],\n",
      "         [ 0.5707, -0.6459, -0.0701,  ...,  0.7419, -0.1806, -0.2217]],\n",
      "\n",
      "        [[-0.2968,  0.1949, -0.1649,  ..., -0.4867,  0.7218, -0.1714],\n",
      "         [-0.8375,  0.0612, -0.4641,  ...,  0.2327, -0.3889, -0.0770],\n",
      "         [ 0.5614,  0.6919,  0.8915,  ..., -0.9472,  1.2411, -0.2056]]])\n",
      "tensor([[[1.8849e-05, 1.5172e-05, 1.1687e-05,  ..., 2.2409e-05,\n",
      "          6.9776e-06, 1.8776e-05],\n",
      "         [9.1569e-06, 1.0062e-05, 7.8786e-06,  ..., 2.9090e-05,\n",
      "          6.0103e-06, 1.3571e-05],\n",
      "         [2.9877e-05, 8.8507e-06, 1.5741e-05,  ..., 3.5456e-05,\n",
      "          1.4094e-05, 1.3526e-05]],\n",
      "\n",
      "        [[1.2561e-05, 2.0537e-05, 1.4332e-05,  ..., 1.0389e-05,\n",
      "          3.4784e-05, 1.4239e-05],\n",
      "         [7.2731e-06, 1.7864e-05, 1.0565e-05,  ..., 2.1206e-05,\n",
      "          1.1390e-05, 1.5559e-05],\n",
      "         [2.9496e-05, 3.3605e-05, 4.1029e-05,  ..., 6.5249e-06,\n",
      "          5.8203e-05, 1.3698e-05]]])\n",
      "probs.shape : torch.Size([2, 3, 50257])\n"
     ]
    }
   ],
   "source": [
    "with torch.no_grad():\n",
    "    logits = model(inputs.to(device))\n",
    "print(logits)\n",
    "probs = F.softmax(logits , dim=-1) ## probability of each token in the vocabulary\n",
    "print(probs)\n",
    "print(f\"probs.shape : {probs.shape}\")"
   ]
  },
  {
   "cell_type": "code",
   "execution_count": 14,
   "id": "4078f6cf",
   "metadata": {},
   "outputs": [
    {
     "name": "stdout",
     "output_type": "stream",
     "text": [
      "tensor([[[16657],\n",
      "         [  339],\n",
      "         [42826]],\n",
      "\n",
      "        [[49906],\n",
      "         [29669],\n",
      "         [41751]]])\n"
     ]
    }
   ],
   "source": [
    "token_ids = torch.argmax(probs,dim=-1,keepdim=True)\n",
    "print(token_ids)"
   ]
  },
  {
   "cell_type": "code",
   "execution_count": 15,
   "id": "8270b90e",
   "metadata": {},
   "outputs": [
    {
     "name": "stdout",
     "output_type": "stream",
     "text": [
      "targets batch 1 :  effort moves you\n",
      "outputs batch 1 :  Armed heNetflix\n"
     ]
    }
   ],
   "source": [
    "print(f\"targets batch 1 : {ids_token_to_text(targets[0],tokenizer)}\")\n",
    "print(f\"outputs batch 1 : {ids_token_to_text(token_ids[0].flatten(),tokenizer)}\")\n",
    "## ==> the model will produce random text because it is not trained yet"
   ]
  },
  {
   "cell_type": "code",
   "execution_count": 16,
   "id": "28acc5f6",
   "metadata": {},
   "outputs": [
    {
     "name": "stdout",
     "output_type": "stream",
     "text": [
      "tensor([7.4540e-05, 3.1061e-05, 1.1563e-05])\n",
      "tensor([1.0337e-05, 5.6776e-05, 4.7559e-06])\n"
     ]
    }
   ],
   "source": [
    "target_probs_1 = probs[0,[0,1,2],targets[0]]\n",
    "print(target_probs_1)\n",
    "target_probs_2 = probs[1,[0,1,2],targets[1]]\n",
    "print(target_probs_2)"
   ]
  },
  {
   "cell_type": "code",
   "execution_count": 17,
   "id": "1a4bbafe",
   "metadata": {},
   "outputs": [
    {
     "name": "stdout",
     "output_type": "stream",
     "text": [
      "tensor([ -9.5042, -10.3796, -11.3677, -11.4798,  -9.7764, -12.2561])\n",
      "Average log probs : -10.793965339660645\n",
      "Average log probs : 10.793965339660645\n"
     ]
    }
   ],
   "source": [
    "log_probs = torch.log(torch.cat(((target_probs_1,target_probs_2))))\n",
    "print(log_probs)\n",
    "\n",
    "avg_log = torch.mean(log_probs)\n",
    "print(f\"Average log probs : {avg_log}\")\n",
    "\n",
    "neg_avg = avg_log * -1 \n",
    "print(f\"Average log probs : {neg_avg}\")"
   ]
  },
  {
   "cell_type": "code",
   "execution_count": 18,
   "id": "a1b3346e",
   "metadata": {},
   "outputs": [
    {
     "name": "stdout",
     "output_type": "stream",
     "text": [
      "logits.shape : torch.Size([2, 3, 50257])\n",
      "targets.shape : torch.Size([2, 3])\n"
     ]
    }
   ],
   "source": [
    "print(f\"logits.shape : {logits.shape}\")\n",
    "print(f\"targets.shape : {targets.shape}\")"
   ]
  },
  {
   "cell_type": "code",
   "execution_count": 19,
   "id": "6806de96",
   "metadata": {},
   "outputs": [
    {
     "name": "stdout",
     "output_type": "stream",
     "text": [
      "logits_flatten.shape : torch.Size([6, 50257])\n",
      "targets_flatten.shape : torch.Size([6])\n"
     ]
    }
   ],
   "source": [
    "logits_flatten = logits.flatten(0,1)\n",
    "print(f\"logits_flatten.shape : {logits_flatten.shape}\")\n",
    "targets_flatten = targets.flatten(0,1)\n",
    "print(f\"targets_flatten.shape : {targets_flatten.shape}\")"
   ]
  },
  {
   "cell_type": "code",
   "execution_count": 20,
   "id": "54ac6e2d",
   "metadata": {},
   "outputs": [
    {
     "name": "stdout",
     "output_type": "stream",
     "text": [
      "tensor(10.7940)\n"
     ]
    }
   ],
   "source": [
    "loss = F.cross_entropy(logits_flatten , targets_flatten)\n",
    "print(loss) ## ==> same as the negative avg probability we already calculated "
   ]
  },
  {
   "cell_type": "code",
   "execution_count": 21,
   "id": "cf1d6754",
   "metadata": {},
   "outputs": [],
   "source": [
    "file_path = \"the-verdict.txt\"\n",
    "with open(file_path,\"r\",encoding=\"utf-8\") as file : \n",
    "    text_data = file.read()"
   ]
  },
  {
   "cell_type": "code",
   "execution_count": 22,
   "id": "14f7c6cc",
   "metadata": {},
   "outputs": [
    {
     "name": "stdout",
     "output_type": "stream",
     "text": [
      "characters :  20479\n",
      "Tokens     :  5145\n"
     ]
    }
   ],
   "source": [
    "total_chars  = len(text_data)\n",
    "total_tokens = len(tokenizer.encode(text_data)) \n",
    "print(f\"characters : \" , total_chars)\n",
    "print(f\"Tokens     : \", total_tokens)"
   ]
  },
  {
   "cell_type": "code",
   "execution_count": 23,
   "id": "3cead24d",
   "metadata": {},
   "outputs": [],
   "source": [
    "train_ratio = 0.9\n",
    "split_idx = int(train_ratio * len(text_data))\n",
    "train_data = text_data[:split_idx]\n",
    "val_data = text_data[split_idx:]"
   ]
  },
  {
   "cell_type": "code",
   "execution_count": 24,
   "id": "b07a924a",
   "metadata": {},
   "outputs": [],
   "source": [
    "torch.manual_seed(123)\n",
    "\n",
    "train_loader = create_dataloader_v1(\n",
    "    txt=train_data,\n",
    "    batch_size=2,\n",
    "    max_length=GPT_CONFIG_124M[\"context_length\"],\n",
    "    stride=GPT_CONFIG_124M[\"context_length\"],\n",
    "    drop_last=True,\n",
    "    shuffle=True,\n",
    "    num_workers=0\n",
    ")\n",
    "\n",
    "val_loader = create_dataloader_v1(\n",
    "    txt=val_data,\n",
    "    batch_size=2,\n",
    "    max_length=GPT_CONFIG_124M[\"context_length\"],\n",
    "    stride=GPT_CONFIG_124M[\"context_length\"],\n",
    "    drop_last=False,\n",
    "    shuffle=False,\n",
    "    num_workers=0\n",
    ")"
   ]
  },
  {
   "cell_type": "code",
   "execution_count": 25,
   "id": "cfbeeff1",
   "metadata": {},
   "outputs": [
    {
     "name": "stdout",
     "output_type": "stream",
     "text": [
      "train loader : \n",
      "\n",
      "torch.Size([2, 256]) torch.Size([2, 256])\n",
      "torch.Size([2, 256]) torch.Size([2, 256])\n",
      "torch.Size([2, 256]) torch.Size([2, 256])\n",
      "torch.Size([2, 256]) torch.Size([2, 256])\n",
      "torch.Size([2, 256]) torch.Size([2, 256])\n",
      "torch.Size([2, 256]) torch.Size([2, 256])\n",
      "torch.Size([2, 256]) torch.Size([2, 256])\n",
      "torch.Size([2, 256]) torch.Size([2, 256])\n",
      "torch.Size([2, 256]) torch.Size([2, 256])\n",
      "val loader : \n",
      "\n",
      "torch.Size([2, 256]) torch.Size([2, 256])\n"
     ]
    }
   ],
   "source": [
    "print(f\"train loader : \\n\")\n",
    "for x,y in train_loader : \n",
    "    print(x.shape   , y.shape)\n",
    "\n",
    "print(f\"val loader : \\n\")\n",
    "for x,y in val_loader : \n",
    "    print(x.shape   , y.shape)"
   ]
  },
  {
   "cell_type": "code",
   "execution_count": null,
   "id": "12295399",
   "metadata": {},
   "outputs": [],
   "source": [
    "def calc_loss_batch(input_batch,target_batch,model,device):\n",
    "    input_batch  = input_batch.to(device) \n",
    "    target_batch = target_batch.to(device)\n",
    "    logits = model(input_batch)\n",
    "    loss = F.cross_entropy(logits.flatten(0,1) , target_batch.flatten())\n",
    "    return loss"
   ]
  },
  {
   "cell_type": "code",
   "execution_count": 27,
   "id": "f33f6383",
   "metadata": {},
   "outputs": [
    {
     "name": "stdout",
     "output_type": "stream",
     "text": [
      "loss : 10.793964385986328\n"
     ]
    }
   ],
   "source": [
    "loss = calc_loss_batch(inputs,targets,model,logits_flatten.device)\n",
    "print(f\"loss : {loss}\")"
   ]
  },
  {
   "cell_type": "code",
   "execution_count": null,
   "id": "172108fa",
   "metadata": {},
   "outputs": [],
   "source": [
    "def calc_loss_loader(data_loader,model,device,num_batches=None):\n",
    "    total_loss = 0.0\n",
    "    if len(data_loader) == 0 : \n",
    "        return float(\"nan\")\n",
    "    elif num_batches is None : \n",
    "        num_batches = len(data_loader) ## if no batch size is given , we iterate over all batches \n",
    "    else : \n",
    "        num_batches = min(num_batches , len(data_loader))\n",
    "    \n",
    "    for i ,(input_batch , target_batch) in enumerate(data_loader) : \n",
    "        if i<num_batches : \n",
    "            loss = calc_loss_batch(input_batch , target_batch , model , device)\n",
    "            total_loss += loss.item() ##    sums loss for each batch\n",
    "        else : \n",
    "            break\n",
    "    return total_loss / num_batches ## average loss over all batches "
   ]
  },
  {
   "cell_type": "code",
   "execution_count": null,
   "id": "27c3d092",
   "metadata": {},
   "outputs": [],
   "source": [
    "model.to(device)"
   ]
  },
  {
   "cell_type": "code",
   "execution_count": 30,
   "id": "e70646ba",
   "metadata": {},
   "outputs": [
    {
     "name": "stdout",
     "output_type": "stream",
     "text": [
      "training loss    : 10.987583584255642\n",
      "validdation loss : 10.98110580444336\n"
     ]
    }
   ],
   "source": [
    "with torch.no_grad():\n",
    "    train_loss = calc_loss_loader(train_loader,model,device)\n",
    "    val_loss   = calc_loss_loader(val_loader,model,device)\n",
    "    \n",
    "print(f\"training loss    : {train_loss}\")\n",
    "print(f\"validdation loss : {val_loss}\")"
   ]
  },
  {
   "cell_type": "code",
   "execution_count": 31,
   "id": "24c67377",
   "metadata": {},
   "outputs": [],
   "source": [
    "def evaluate_model(model,train_loader,val_loader,device,eval_iter):\n",
    "    model.eval()\n",
    "    with torch.no_grad():\n",
    "        train_loss = calc_loss_loader(train_loader,model,device,num_batches=eval_iter)\n",
    "        val_loss = calc_loss_loader(val_loader,model,device,num_batches=eval_iter)\n",
    "    model.train()\n",
    "    return train_loss , val_loss"
   ]
  },
  {
   "cell_type": "code",
   "execution_count": 32,
   "id": "2bbf542a",
   "metadata": {},
   "outputs": [],
   "source": [
    "def generate_print_sample(model,tokenizer,device,start_context):\n",
    "    model.eval()\n",
    "    context_size = model.pos_emb.weight.shape[0]\n",
    "    encoded = text_to_token_ids(start_context,tokenizer).to(device)\n",
    "    with torch.no_grad():\n",
    "        token_ids = generate_next_token(model,idx=encoded,max_new_tokens=50,context_size=context_size)\n",
    "        decoded = ids_token_to_text(token_ids,tokenizer)\n",
    "        print(decoded.replace(\"\\n\" , \" \"))\n",
    "    model.train()    \n",
    "    "
   ]
  },
  {
   "cell_type": "code",
   "execution_count": 33,
   "id": "3f835a43",
   "metadata": {},
   "outputs": [],
   "source": [
    "def train_model_simple(model,train_loader,val_loader,optimizer,device,\n",
    "                       num_epochs,eval_freq,eval_iter,start_context,tokenizer) : \n",
    "    train_losses , val_losses ,track_tokens_seen = [],[],[]\n",
    "    tokens_seen ,global_step = 0,-1\n",
    "    for epoch in range(num_epochs):\n",
    "        model.train()\n",
    "        for input_batch , target_batch in train_loader : \n",
    "            optimizer.zero_grad() ## resets the gradients from the previous batch iteration\n",
    "            loss = calc_loss_batch(input_batch,target_batch,model,device)\n",
    "            loss.backward()  ## calculates loss gradients\n",
    "            optimizer.step() ## updates model weights using loss gradients\n",
    "            tokens_seen += input_batch.numel()\n",
    "            global_step += 1 \n",
    "            \n",
    "            if global_step % eval_freq ==0 : \n",
    "                train_loss , val_loss = evaluate_model(\n",
    "                    model,train_loader,val_loader,device,eval_iter)\n",
    "                train_losses.append(train_loss)\n",
    "                val_losses.append(val_loss)\n",
    "                track_tokens_seen.append(tokens_seen)\n",
    "                print(f\"Ep {epoch+1} (Step {global_step:06d}): \"\n",
    "                      f\"Train Loss {train_loss:.3f}  \"\n",
    "                      f\"Val Loss {val_loss:.3f}\")\n",
    "        generate_print_sample(model,tokenizer,device,start_context)\n",
    "    return train_losses , val_losses , track_tokens_seen\n",
    "     "
   ]
  },
  {
   "cell_type": "code",
   "execution_count": null,
   "id": "42772908",
   "metadata": {},
   "outputs": [],
   "source": [
    "torch.manual_seed(123)\n",
    "model = GPTModel(GPT_CONFIG_124M)\n",
    "model.to(device)\n",
    "optimizer = torch.optim.AdamW(model.parameters(),lr=0.0004,weight_decay=0.1)\n",
    "num_epochs = 10\n",
    "train_losses , val_losses , track_tokens_seen = train_model_simple(\n",
    "                                model,train_loader,val_loader,optimizer,device,\n",
    "                                num_epochs,eval_freq=5,eval_iter=5,\n",
    "                                start_context=\"Every Effort moves you\",\n",
    "                                tokenizer=tokenizer\n",
    "                                )"
   ]
  },
  {
   "cell_type": "code",
   "execution_count": null,
   "id": "dccbbfdf",
   "metadata": {},
   "outputs": [],
   "source": [
    "import matplotlib.pyplot as plt\n",
    "from matplotlib.ticker import MaxNLocator\n",
    "num_epochs = 10\n",
    "def plot_losses(epochs_seen , tokens_seen,train_losses,val_losses):\n",
    "    fig ,ax1 = plt.subplots(figsize=(5,3))\n",
    "    ax1.plot(epochs_seen , train_losses , label=\"Training Loss\")\n",
    "    ax1.plot(epochs_seen , val_losses ,linestyle=\"-.\", label=\"Validation Loss\")\n",
    "    ax1.set_xlabel(\"Epochs\")\n",
    "    ax1.set_ylabel(\"Loss\")\n",
    "    ax1.legend(loc=\"upper right\")\n",
    "    ax1.xaxis.set_major_locator(MaxNLocator(integer=True))\n",
    "    ax2 = ax1.twiny()\n",
    "    ax2.plot(tokens_seen,train_losses,alpha=0)\n",
    "    #ax1.set_xlabel(\"Tokens seen\")\n",
    "    fig.tight_layout()\n",
    "    plt.show()\n",
    "\n",
    "epochs_tensor = torch.linspace(0,num_epochs,len(train_losses))\n",
    "plot_losses(epochs_tensor ,track_tokens_seen,train_losses,val_losses)\n",
    "    "
   ]
  },
  {
   "cell_type": "markdown",
   "id": "339bb1d6",
   "metadata": {},
   "source": [
    "Text Generation strategies "
   ]
  },
  {
   "cell_type": "code",
   "execution_count": 35,
   "id": "e386988f",
   "metadata": {},
   "outputs": [
    {
     "name": "stdout",
     "output_type": "stream",
     "text": [
      "<Encoding 'gpt2'>\n"
     ]
    }
   ],
   "source": [
    "model.to(\"cpu\")\n",
    "model.eval() ## in order to turn off random components like dropout during inference \n",
    "print(tokenizer)\n",
    "\n",
    "token_ids = generate_next_token(\n",
    "    model=model,\n",
    "    idx=text_to_token_ids(\"Every effort moves you\",tokenizer),\n",
    "    max_new_tokens=25,\n",
    "    context_size=GPT_CONFIG_124M[\"context_length\"]\n",
    ")"
   ]
  },
  {
   "cell_type": "code",
   "execution_count": 36,
   "id": "c5de63f3",
   "metadata": {},
   "outputs": [
    {
     "name": "stdout",
     "output_type": "stream",
     "text": [
      "Output text : \n",
      " Every effort moves you rentingetic wasnم refres RexMeCHicular stren Mortgage TT remember gard ACTIONSussedOND Land Engeleddedemate breaths proxies GalaxyForm\n"
     ]
    }
   ],
   "source": [
    "print(f\"Output text : \\n {ids_token_to_text(token_ids , tokenizer)}\")"
   ]
  },
  {
   "cell_type": "markdown",
   "id": "4956c039",
   "metadata": {},
   "source": [
    "Temperature Scaling"
   ]
  },
  {
   "cell_type": "code",
   "execution_count": 37,
   "id": "8bab8cc1",
   "metadata": {},
   "outputs": [
    {
     "name": "stdout",
     "output_type": "stream",
     "text": [
      "{0: 'closer', 1: 'every', 2: 'effort', 3: 'forward', 4: 'inches', 5: 'moves', 6: 'pizza', 7: 'toward', 8: 'you'}\n"
     ]
    }
   ],
   "source": [
    "vocab = {\n",
    "\"closer\": 0,\n",
    "\"every\": 1,\n",
    "\"effort\": 2,\n",
    "\"forward\": 3,\n",
    "\"inches\": 4,\n",
    "\"moves\": 5,\n",
    "\"pizza\": 6,\n",
    "\"toward\": 7,\n",
    "\"you\": 8,\n",
    "}\n",
    "inv_vocab = {v:k for k,v in vocab.items()}\n",
    "print(inv_vocab)"
   ]
  },
  {
   "cell_type": "code",
   "execution_count": 38,
   "id": "371e2194",
   "metadata": {},
   "outputs": [
    {
     "name": "stdout",
     "output_type": "stream",
     "text": [
      "forward\n"
     ]
    }
   ],
   "source": [
    "## Assuming the LLM is given \"Every effort moves you\" as input and generates the next output (based on the vocab fom the previous cell) \n",
    "next_token_logits = torch.tensor(\n",
    "[4.51, 0.89, -1.90, 6.75, 1.63, -1.62, -1.89, 6.28, 1.79]\n",
    ")\n",
    "probs = F.softmax(next_token_logits ,dim=-1)\n",
    "next_token_id = torch.argmax(probs).item()\n",
    "print(inv_vocab[next_token_id])"
   ]
  },
  {
   "cell_type": "code",
   "execution_count": 39,
   "id": "a97b7393",
   "metadata": {},
   "outputs": [
    {
     "name": "stdout",
     "output_type": "stream",
     "text": [
      "toward\n"
     ]
    }
   ],
   "source": [
    "## ===> Probabilistic selection from the softmax output (probabilities)\n",
    "torch.manual_seed(123)\n",
    "next_token_id = torch.multinomial(probs,num_samples=1).item()\n",
    "print(inv_vocab[next_token_id])"
   ]
  },
  {
   "cell_type": "code",
   "execution_count": 40,
   "id": "3fc53aae",
   "metadata": {},
   "outputs": [
    {
     "name": "stdout",
     "output_type": "stream",
     "text": [
      "71 x closer\n",
      "2 x every\n",
      "0 x effort\n",
      "544 x forward\n",
      "2 x inches\n",
      "1 x moves\n",
      "0 x pizza\n",
      "376 x toward\n",
      "4 x you\n",
      "None\n"
     ]
    }
   ],
   "source": [
    "def print_sampled_tokens(probs) : \n",
    "    torch.manual_seed(123)\n",
    "    sample = [torch.multinomial(probs,num_samples=1).item() for i in range(1_000)]\n",
    "    sampled_ids = torch.bincount(torch.tensor(sample))\n",
    "    for i,freq in enumerate(sampled_ids) : \n",
    "        print(f\"{freq} x {inv_vocab[i]}\")\n",
    "print(print_sampled_tokens(probs))"
   ]
  },
  {
   "cell_type": "code",
   "execution_count": 41,
   "id": "704eba17",
   "metadata": {},
   "outputs": [],
   "source": [
    "\"\"\"\n",
    "    temperature scaling is used to change the distribution of the tokens : \n",
    "    temp > 1 ==> more uniformly distributed token probs\n",
    "    remp < 1 ==> more peaky (confident) distributed token probs\n",
    "\"\"\"\n",
    "def softmax_with_temperature(logits , temperature):\n",
    "    scaled_logits = logits / temperature\n",
    "    return F.softmax(scaled_logits,dim=0)"
   ]
  },
  {
   "cell_type": "code",
   "execution_count": 43,
   "id": "55444372",
   "metadata": {},
   "outputs": [
    {
     "data": {
      "image/png": "[encoded data removed]",
      "text/plain": [
       "<Figure size 500x300 with 1 Axes>"
      ]
     },
     "metadata": {},
     "output_type": "display_data"
    }
   ],
   "source": [
    "import matplotlib.pyplot as plt \n",
    "temp = [1,0.1,5]\n",
    "scaled_probs = [softmax_with_temperature(next_token_logits,t) for t in temp]\n",
    "x = torch.arange(len(vocab))\n",
    "bar_width = 0.15\n",
    "fig,ax = plt.subplots(figsize=(5,3))\n",
    "for i,t in enumerate(temp) :\n",
    "    rects = ax.bar(x+i*bar_width,scaled_probs[i],bar_width,label=f\"Temp = {t}\")\n",
    "ax.set_ylabel('Prob')\n",
    "ax.set_xticks(x)\n",
    "ax.set_xticklabels(vocab.keys(),rotation=60)\n",
    "ax.legend()\n",
    "plt.tight_layout()\n",
    "plt.show()\n",
    "## as we can see , the higher the temperature is , the more the distribution is uniform ==> more words can be selected by the model\n",
    "## when training which reduces the probability of the model selecting the same token each time \n",
    "## but we should be careful because with very high temperatures the model can select tokens irrelevant to the correct context \n",
    "## (every effort move you pizza)  "
   ]
  },
  {
   "cell_type": "markdown",
   "id": "0a10d7da",
   "metadata": {},
   "source": [
    "Top-k Sampling"
   ]
  },
  {
   "cell_type": "code",
   "execution_count": 44,
   "id": "98534ed5",
   "metadata": {},
   "outputs": [
    {
     "name": "stdout",
     "output_type": "stream",
     "text": [
      "top logits : tensor([6.7500, 6.2800, 4.5100])\n",
      "top positions : tensor([3, 7, 0])\n"
     ]
    }
   ],
   "source": [
    "top_k = 3 \n",
    "top_logits , top_pos = torch.topk(next_token_logits,top_k)\n",
    "print(f\"top logits : {top_logits}\")\n",
    "print(f\"top positions : {top_pos}\")"
   ]
  },
  {
   "cell_type": "code",
   "execution_count": 45,
   "id": "75933f5c",
   "metadata": {},
   "outputs": [
    {
     "name": "stdout",
     "output_type": "stream",
     "text": [
      "new logits : tensor([4.5100,   -inf,   -inf, 6.7500,   -inf,   -inf,   -inf, 6.2800,   -inf])\n"
     ]
    }
   ],
   "source": [
    "new_logits = torch.where(\n",
    "    condition=next_token_logits < top_logits[-1],\n",
    "    input=torch.tensor(float('-inf')),\n",
    "    other=next_token_logits\n",
    ")\n",
    "print(f\"new logits : {new_logits}\")"
   ]
  },
  {
   "cell_type": "code",
   "execution_count": 46,
   "id": "39ca7e37",
   "metadata": {},
   "outputs": [
    {
     "name": "stdout",
     "output_type": "stream",
     "text": [
      "tensor([0.0615, 0.0000, 0.0000, 0.5775, 0.0000, 0.0000, 0.0000, 0.3610, 0.0000])\n"
     ]
    }
   ],
   "source": [
    "topk_probs = F.softmax(new_logits,dim=0)\n",
    "print(topk_probs)"
   ]
  },
  {
   "cell_type": "markdown",
   "id": "5fc14adf",
   "metadata": {},
   "source": [
    "Final text generation function (combines probabilistic sampling , temperature scaling and top-k sampling)"
   ]
  },
  {
   "cell_type": "code",
   "execution_count": null,
   "id": "84616a3b",
   "metadata": {},
   "outputs": [],
   "source": [
    "def generate(model,idx,max_new_tokens,context_size,\n",
    "             temp=0.0,top_k=None,eos_id=None):\n",
    "    for _ in range(max_new_tokens) : \n",
    "        idx_cond = idx[:,-context_size:]\n",
    "        with torch.no_grad():\n",
    "            logits = model(idx_cond)\n",
    "        logits = logits[:,-1,:]\n",
    "        if top_k is not None : \n",
    "            top_logits , _ = torch.topk(logits,top_k)\n",
    "            min_val = top_logits[:,-1]\n",
    "            logits = torch.where(\n",
    "                condition=logits < min_val,\n",
    "                input=torch.tensor(float('-inf')).to(logits.device),\n",
    "                other=logits\n",
    "            )\n",
    "        if temp > 0.0 : \n",
    "            logits = logits / temp\n",
    "            probs = F.softmax(logits,dim=-1)\n",
    "            idx_next = torch.multinomial(probs,num_samples=1)\n",
    "        else : \n",
    "            idx_next = torch.argmax(logits,dim=-1,keepdim=True)\n",
    "        if idx_next == eos_id : \n",
    "            break\n",
    "        \n",
    "        idx = torch.cat((idx,idx_next),dim=1) \n",
    "    return idx"
   ]
  },
  {
   "cell_type": "code",
   "execution_count": 48,
   "id": "a1b57243",
   "metadata": {},
   "outputs": [
    {
     "name": "stdout",
     "output_type": "stream",
     "text": [
      "output : Every effort moves you Laur similarity Aw137 Bethesda Lara anch republicquel Baton adultigans spotlightConsumer450\n"
     ]
    }
   ],
   "source": [
    "torch.manual_seed(123)\n",
    "token_ids = generate(\n",
    "    model,\n",
    "    idx=text_to_token_ids(\"Every effort moves you\" , tokenizer),\n",
    "    max_new_tokens=15,\n",
    "    context_size=GPT_CONFIG_124M[\"context_length\"],\n",
    "    top_k=15,\n",
    "    temp=1.4\n",
    "    )\n",
    "\n",
    "print(f\"output : {ids_token_to_text(token_ids , tokenizer)}\")"
   ]
  },
  {
   "cell_type": "code",
   "execution_count": null,
   "id": "3aa6ed17",
   "metadata": {},
   "outputs": [
    {
     "data": {
      "text/plain": [
       "('gpt_download.py', <http.client.HTTPMessage at 0x1a0c2744ef0>)"
      ]
     },
     "execution_count": 104,
     "metadata": {},
     "output_type": "execute_result"
    }
   ],
   "source": [
    "import urllib.request\n",
    "url = (\n",
    "\"https://raw.githubusercontent.com/rasbt/\"\n",
    "\"LLMs-from-scratch/main/ch05/\"\n",
    "\"01_main-chapter-code/gpt_download.py\"\n",
    ")\n",
    "filename = url.split('/')[-1]\n",
    "urllib.request.urlretrieve(url, filename)"
   ]
  },
  {
   "cell_type": "code",
   "execution_count": 125,
   "id": "e0e93e12",
   "metadata": {},
   "outputs": [
    {
     "name": "stdout",
     "output_type": "stream",
     "text": [
      "File already exists and is up-to-date: gpt2\\124M\\checkpoint\n",
      "File already exists and is up-to-date: gpt2\\124M\\encoder.json\n",
      "File already exists and is up-to-date: gpt2\\124M\\hparams.json\n",
      "File already exists and is up-to-date: gpt2\\124M\\model.ckpt.data-00000-of-00001\n",
      "File already exists and is up-to-date: gpt2\\124M\\model.ckpt.index\n",
      "File already exists and is up-to-date: gpt2\\124M\\model.ckpt.meta\n",
      "File already exists and is up-to-date: gpt2\\124M\\vocab.bpe\n"
     ]
    }
   ],
   "source": [
    "from gpt_download import download_and_load_gpt2 \n",
    "settings , params = download_and_load_gpt2(\n",
    "    model_size=\"124M\",models_dir=\"gpt2\"\n",
    ")"
   ]
  },
  {
   "cell_type": "code",
   "execution_count": 49,
   "id": "820b936c",
   "metadata": {},
   "outputs": [
    {
     "name": "stdout",
     "output_type": "stream",
     "text": [
      "Settings : {'n_vocab': 50257, 'n_ctx': 1024, 'n_embd': 768, 'n_head': 12, 'n_layer': 12}\n",
      "Parameters dictionary keys : dict_keys(['blocks', 'b', 'g', 'wpe', 'wte'])\n"
     ]
    }
   ],
   "source": [
    "print(f\"Settings : {settings}\")\n",
    "print(f\"Parameters dictionary keys : {params.keys()}\")"
   ]
  },
  {
   "cell_type": "code",
   "execution_count": 50,
   "id": "f3735ac4",
   "metadata": {},
   "outputs": [
    {
     "name": "stdout",
     "output_type": "stream",
     "text": [
      "token embedding weight tensor shape : (50257, 768)\n"
     ]
    }
   ],
   "source": [
    "print(f\"token embedding weight tensor shape : {params[\"wte\"].shape}\")"
   ]
  },
  {
   "cell_type": "code",
   "execution_count": 51,
   "id": "64e8f5ba",
   "metadata": {},
   "outputs": [],
   "source": [
    "models_config = {\n",
    "    \"gpt2_small (124M)\" : {\"emb_dim\":768 , \"n_layers\":12 ,\"n_heads\":12} , \n",
    "    \"gpt2_medium (355M)\" : {\"emb_dim\":1024 , \"n_layers\":24 ,\"n_heads\":16} , \n",
    "    \"gpt2_large (774M)\" : {\"emb_dim\":1280 , \"n_layers\":36,\"n_heads\":20} , \n",
    "    \"gpt2_xl (1558M)\" : {\"emb_dim\":1600 , \"n_layers\":48 ,\"n_heads\":25} , \n",
    "}"
   ]
  },
  {
   "cell_type": "code",
   "execution_count": 52,
   "id": "24a2ee55",
   "metadata": {},
   "outputs": [
    {
     "name": "stdout",
     "output_type": "stream",
     "text": [
      "{'vocab_size': 50257, 'context_length': 1024, 'emb_dim': 768, 'n_heads': 12, 'n_layers': 12, 'drop_rate': 0.1, 'qkv_bias': True}\n"
     ]
    }
   ],
   "source": [
    "model_name = \"gpt2_small (124M)\"\n",
    "new_config = GPT_CONFIG_124M.copy()\n",
    "new_config.update(models_config[model_name])\n",
    "new_config.update({\"context_length\":1024})\n",
    "new_config.update({\"qkv_bias\":True})\n",
    "print(new_config)"
   ]
  },
  {
   "cell_type": "code",
   "execution_count": null,
   "id": "90776132",
   "metadata": {},
   "outputs": [],
   "source": [
    "gpt = GPTModel(new_config)\n",
    "gpt.eval()"
   ]
  },
  {
   "cell_type": "code",
   "execution_count": null,
   "id": "e408e187",
   "metadata": {},
   "outputs": [],
   "source": [
    "def assign(left,right):\n",
    "    if left.shape != right.shape : \n",
    "        raise ValueError(f\" Shape mismatch .Left: {left.shape}  Right: {right.shape}\")\n",
    "    return torch.nn.Parameter(torch.tensor(right)) "
   ]
  },
  {
   "cell_type": "code",
   "execution_count": null,
   "id": "253afe9c",
   "metadata": {},
   "outputs": [],
   "source": [
    "## Loading the weights into our gpt model\n",
    "import numpy as np \n",
    "def load_weights_into_gpt(gpt , params) : \n",
    "    gpt.pos_emb.weight = assign(gpt.pos_emb.weight,params[\"wpe\"])\n",
    "    gpt.tok_emb.weight = assign(gpt.tok_emb.weight,params[\"wte\"])\n",
    "    \n",
    "    for b in range(len(params[\"blocks\"])) : \n",
    "        ## Attention Q,K,V weights\n",
    "        q_w,k_w,v_w = np.split((params[\"blocks\"][b][\"attn\"][\"c_attn\"])[\"w\"] , 3 , axis=-1)\n",
    "        gpt.trf_blocks[b].MHattention.w_q.weight =assign(gpt.trf_blocks[b].MHattention.w_q.weight ,q_w.T)\n",
    "        gpt.trf_blocks[b].MHattention.w_k.weight =assign(gpt.trf_blocks[b].MHattention.w_k.weight ,k_w.T)\n",
    "        gpt.trf_blocks[b].MHattention.w_v.weight =assign(gpt.trf_blocks[b].MHattention.w_v.weight ,v_w.T)\n",
    "        ## Attention Q,K,V bias\n",
    "        q_b , k_b , v_b = np.split((params[\"blocks\"][b][\"attn\"][\"c_attn\"])[\"b\"],3,axis=-1)\n",
    "        gpt.trf_blocks[b].MHattention.w_q.bias =assign(gpt.trf_blocks[b].MHattention.w_q.bias ,q_b)\n",
    "        gpt.trf_blocks[b].MHattention.w_k.bias =assign(gpt.trf_blocks[b].MHattention.w_k.bias ,k_b)\n",
    "        gpt.trf_blocks[b].MHattention.w_v.bias =assign(gpt.trf_blocks[b].MHattention.w_v.bias ,v_b)\n",
    "        ## Attention out_proj weights and bias\n",
    "        gpt.trf_blocks[b].MHattention.out_proj.weight = assign(gpt.trf_blocks[b].MHattention.out_proj.weight,params[\"blocks\"][b][\"attn\"][\"c_proj\"][\"w\"].T)\n",
    "        gpt.trf_blocks[b].MHattention.out_proj.bias   = assign(gpt.trf_blocks[b].MHattention.out_proj.bias,params[\"blocks\"][b][\"attn\"][\"c_proj\"][\"b\"])\n",
    "        ## feed forward layer weights and bias  \n",
    "        gpt.trf_blocks[b].ffn.layers[0].weight = assign(gpt.trf_blocks[b].ffn.layers[0].weight,params[\"blocks\"][b][\"mlp\"][\"c_fc\"][\"w\"].T)\n",
    "        gpt.trf_blocks[b].ffn.layers[0].bias   = assign(gpt.trf_blocks[b].ffn.layers[0].bias,params[\"blocks\"][b][\"mlp\"][\"c_fc\"][\"b\"])\n",
    "        gpt.trf_blocks[b].ffn.layers[2].weight = assign(gpt.trf_blocks[b].ffn.layers[2].weight,params[\"blocks\"][b][\"mlp\"][\"c_proj\"][\"w\"].T)\n",
    "        gpt.trf_blocks[b].ffn.layers[2].bias   = assign(gpt.trf_blocks[b].ffn.layers[2].bias,params[\"blocks\"][b][\"mlp\"][\"c_proj\"][\"b\"])\n",
    "        \n",
    "        gpt.trf_blocks[b].layer_norm_1.scale = assign(gpt.trf_blocks[b].layer_norm_1.scale,params[\"blocks\"][b][\"ln_1\"][\"g\"])\n",
    "        gpt.trf_blocks[b].layer_norm_1.shift = assign(gpt.trf_blocks[b].layer_norm_1.shift,params[\"blocks\"][b][\"ln_1\"][\"b\"])\n",
    "        gpt.trf_blocks[b].layer_norm_2.scale = assign(gpt.trf_blocks[b].layer_norm_2.scale,params[\"blocks\"][b][\"ln_2\"][\"g\"])\n",
    "        gpt.trf_blocks[b].layer_norm_2.shift = assign(gpt.trf_blocks[b].layer_norm_2.shift,params[\"blocks\"][b][\"ln_2\"][\"b\"])\n",
    "        \n",
    "        gpt.final_norm.scale = assign(gpt.final_norm.scale, params[\"g\"])\n",
    "        gpt.final_norm.shift = assign(gpt.final_norm.shift, params[\"b\"])\n",
    "        \n",
    "        gpt.out_head.weight  = assign(gpt.out_head.weight,  params[\"wte\"])"
   ]
  },
  {
   "cell_type": "code",
   "execution_count": null,
   "id": "65af8d0c",
   "metadata": {},
   "outputs": [],
   "source": [
    "load_weights_into_gpt(gpt,params)\n",
    "gpt.to(device)"
   ]
  },
  {
   "cell_type": "code",
   "execution_count": 123,
   "id": "85b9ad91",
   "metadata": {},
   "outputs": [],
   "source": [
    "torch.manual_seed(138)\n",
    "token_ids = generate(\n",
    "    model=gpt,\n",
    "    idx=text_to_token_ids(\"Every effort moves you\" , tokenizer).to(device),\n",
    "    max_new_tokens=25,\n",
    "    context_size=GPT_CONFIG_124M[\"context_length\"],\n",
    "    temp=2,\n",
    "    top_k=30,\n",
    "    )\n"
   ]
  },
  {
   "cell_type": "code",
   "execution_count": 124,
   "id": "5ec9e0f4",
   "metadata": {},
   "outputs": [
    {
     "name": "stdout",
     "output_type": "stream",
     "text": [
      "Output :\n",
      " Every effort moves you forward on your path!\"\n",
      "\n",
      "You won \"The battle of a battlefield of the battle arena!\"! A battle\n",
      "\n",
      "\n"
     ]
    }
   ],
   "source": [
    "print(f\"Output :\\n {ids_token_to_text(token_ids , tokenizer)}\")"
   ]
  },
  {
   "cell_type": "code",
   "execution_count": null,
   "id": "a2c87756",
   "metadata": {},
   "outputs": [
    {
     "name": "stdout",
     "output_type": "stream",
     "text": [
      "Training and validation set losses of the GPTModel with the pretrainedweights from OpenAI on the “The Verdict” dataset: \n",
      "training loss = 3.639 -- validation loss = 3.560\n"
     ]
    }
   ],
   "source": [
    "train_loss , val_loss = evaluate_model(\n",
    "    model=gpt,\n",
    "    train_loader=train_loader,\n",
    "    val_loader=val_loader,\n",
    "    device=device,\n",
    "    eval_iter=5\n",
    ")\n",
    "print(f\"Training and validation set losses of the GPTModel with the pretrained\"\n",
    "      f\"weights from OpenAI on the “The Verdict” dataset: \\ntraining loss = {train_loss:.3f} -- validation loss = {val_loss:.3f}\")"
   ]
  }
 ],
 "metadata": {
  "kernelspec": {
   "display_name": "Python 3",
   "language": "python",
   "name": "python3"
  },
  "language_info": {
   "codemirror_mode": {
    "name": "ipython",
    "version": 3
   },
   "file_extension": ".py",
   "mimetype": "text/x-python",
   "name": "python",
   "nbconvert_exporter": "python",
   "pygments_lexer": "ipython3",
   "version": "3.12.10"
  }
 },
 "nbformat": 4,
 "nbformat_minor": 5
}
